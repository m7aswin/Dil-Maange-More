{
 "cells": [
  {
   "cell_type": "code",
   "execution_count": 1,
   "id": "a1b1dd0b",
   "metadata": {},
   "outputs": [],
   "source": [
    "import warnings\n",
    "warnings.filterwarnings('ignore')\n",
    "\n",
    "import dash\n",
    "import dash_core_components as dcc\n",
    "import dash_html_components as dtml"
   ]
  },
  {
   "cell_type": "code",
   "execution_count": 2,
   "id": "cbc0ee30",
   "metadata": {},
   "outputs": [],
   "source": [
    "app=dash.Dash()"
   ]
  },
  {
   "cell_type": "code",
   "execution_count": 3,
   "id": "03998b11",
   "metadata": {},
   "outputs": [],
   "source": [
    "app.layout=dtml.Div([\n",
    "    dtml.H1('Hello Dash!'),\n",
    "    dtml.Div('Dash - A Data product development framework from plotly')\n",
    "])"
   ]
  },
  {
   "cell_type": "code",
   "execution_count": 7,
   "id": "a1c25f59",
   "metadata": {},
   "outputs": [
    {
     "name": "stdout",
     "output_type": "stream",
     "text": [
      "Dash is running on http://127.0.0.1:8050/\n",
      "\n",
      " * Serving Flask app '__main__' (lazy loading)\n",
      " * Environment: production\n",
      "   WARNING: This is a development server. Do not use it in a production deployment.\n",
      "   Use a production WSGI server instead.\n",
      " * Debug mode: off\n"
     ]
    }
   ],
   "source": [
    "if __name__=='__main__':\n",
    "    app.run_server()"
   ]
  },
  {
   "cell_type": "code",
   "execution_count": null,
   "id": "86b6ba11",
   "metadata": {},
   "outputs": [],
   "source": []
  },
  {
   "cell_type": "markdown",
   "id": "fbe38f88",
   "metadata": {},
   "source": [
    "#### Simple Bar Chart"
   ]
  },
  {
   "cell_type": "code",
   "execution_count": 9,
   "id": "a839f6c7",
   "metadata": {},
   "outputs": [],
   "source": [
    "app.layout=dtml.Div([\n",
    "    dtml.H1('Hello Dash!'),\n",
    "    dtml.Div('Dash - A Data product development framework from plotly'),\n",
    "    \n",
    "    dcc.Graph(\n",
    "    id='samplechart',\n",
    "        figure={\n",
    "            'data':[\n",
    "                {'x':[4,6,8],'y':[12,16,18],'type':'bar','name':'first chart'},\n",
    "                {'x':[4,6,8],'y':[24,26,28],'type':'bar','name':'second chart'}\n",
    "            ],\n",
    "            'layout':{'title':'Simple Bar Chart'}\n",
    "        }\n",
    "    )\n",
    "])"
   ]
  },
  {
   "cell_type": "code",
   "execution_count": 10,
   "id": "8ed501fa",
   "metadata": {},
   "outputs": [
    {
     "name": "stdout",
     "output_type": "stream",
     "text": [
      "Dash is running on http://127.0.0.1:8050/\n",
      "\n",
      " * Serving Flask app '__main__' (lazy loading)\n",
      " * Environment: production\n",
      "   WARNING: This is a development server. Do not use it in a production deployment.\n",
      "   Use a production WSGI server instead.\n",
      " * Debug mode: off\n"
     ]
    },
    {
     "name": "stderr",
     "output_type": "stream",
     "text": [
      " * Running on http://127.0.0.1:8050/ (Press CTRL+C to quit)\n",
      "127.0.0.1 - - [07/Jun/2021 13:12:27] \"GET / HTTP/1.1\" 200 -\n",
      "127.0.0.1 - - [07/Jun/2021 13:12:27] \"GET /_dash-layout HTTP/1.1\" 200 -\n",
      "127.0.0.1 - - [07/Jun/2021 13:12:27] \"GET /_dash-dependencies HTTP/1.1\" 200 -\n"
     ]
    }
   ],
   "source": [
    "if __name__ =='__main__':\n",
    "    app.run_server()"
   ]
  },
  {
   "cell_type": "markdown",
   "id": "d86b6ddb",
   "metadata": {},
   "source": [
    "#### Styling Up the Text"
   ]
  },
  {
   "cell_type": "code",
   "execution_count": 13,
   "id": "900f8eab",
   "metadata": {},
   "outputs": [],
   "source": [
    "app.layout=dtml.Div([\n",
    "    dtml.H1(\n",
    "        children='Hello Dash!',\n",
    "        style={\n",
    "            'textAlign':'center',\n",
    "            'color':'#8a20db'\n",
    "        }\n",
    "    ),\n",
    "    dtml.Div(\n",
    "        children='Dash - A Data product development framework from plotly',\n",
    "        style={\n",
    "            'textAlign':'center',\n",
    "            'color':'#8a20db'\n",
    "        } \n",
    "            ),\n",
    "    \n",
    "    dcc.Graph(\n",
    "    id='samplechart',\n",
    "        figure={\n",
    "            'data':[\n",
    "                {'x':[4,6,8],'y':[12,16,18],'type':'bar','name':'first chart'},\n",
    "                {'x':[4,6,8],'y':[24,26,28],'type':'bar','name':'second chart'}\n",
    "            ],\n",
    "            'layout':{'title':'Simple Bar Chart'}\n",
    "        }\n",
    "    )\n",
    "])"
   ]
  },
  {
   "cell_type": "code",
   "execution_count": 14,
   "id": "6057fc9f",
   "metadata": {},
   "outputs": [
    {
     "name": "stdout",
     "output_type": "stream",
     "text": [
      "Dash is running on http://127.0.0.1:8050/\n",
      "\n",
      " * Serving Flask app '__main__' (lazy loading)\n",
      " * Environment: production\n",
      "   WARNING: This is a development server. Do not use it in a production deployment.\n",
      "   Use a production WSGI server instead.\n",
      " * Debug mode: off\n"
     ]
    },
    {
     "name": "stderr",
     "output_type": "stream",
     "text": [
      " * Running on http://127.0.0.1:8050/ (Press CTRL+C to quit)\n",
      "127.0.0.1 - - [07/Jun/2021 13:42:27] \"GET / HTTP/1.1\" 200 -\n",
      "127.0.0.1 - - [07/Jun/2021 13:42:27] \"GET /_dash-layout HTTP/1.1\" 200 -\n",
      "127.0.0.1 - - [07/Jun/2021 13:42:27] \"GET /_dash-dependencies HTTP/1.1\" 200 -\n"
     ]
    }
   ],
   "source": [
    "if __name__ == '__main__':\n",
    "    app.run_server()"
   ]
  },
  {
   "cell_type": "markdown",
   "id": "c858b375",
   "metadata": {},
   "source": [
    "#### Format Laylout"
   ]
  },
  {
   "cell_type": "code",
   "execution_count": 20,
   "id": "62ed9206",
   "metadata": {},
   "outputs": [],
   "source": [
    "app.layout=dtml.Div([\n",
    "    dtml.H1(\n",
    "        children='Hello Dash!',\n",
    "        style={\n",
    "            'textAlign':'center',\n",
    "            'color':'#8a20db'\n",
    "        }\n",
    "    ),\n",
    "    dtml.Div(\n",
    "        children='Dash - A Data product development framework from plotly',\n",
    "        style={\n",
    "            'textAlign':'center',\n",
    "            'color':'#8a20db'\n",
    "        } \n",
    "            ),\n",
    "    \n",
    "    dcc.Graph(\n",
    "    id='samplechart',\n",
    "        figure={\n",
    "            'data':[\n",
    "                {'x':[4,6,8],'y':[12,16,18],'type':'bar','name':'first chart'},\n",
    "                {'x':[4,6,8],'y':[24,26,28],'type':'bar','name':'second chart'}\n",
    "            ],\n",
    "            'layout':{\n",
    "                'plot_bgcolor':'#a5a14a',\n",
    "                'paper_bgcolor':'#D3D3D3',\n",
    "                'font':{'color':'blue'},\n",
    "                \n",
    "                'title':'Simple Bar Chart'\n",
    "            }\n",
    "        }\n",
    "    )\n",
    "])"
   ]
  },
  {
   "cell_type": "code",
   "execution_count": 21,
   "id": "f1baf033",
   "metadata": {},
   "outputs": [
    {
     "name": "stdout",
     "output_type": "stream",
     "text": [
      "Dash is running on http://127.0.0.1:8050/\n",
      "\n",
      " * Serving Flask app '__main__' (lazy loading)\n",
      " * Environment: production\n",
      "   WARNING: This is a development server. Do not use it in a production deployment.\n",
      "   Use a production WSGI server instead.\n",
      " * Debug mode: off\n"
     ]
    },
    {
     "name": "stderr",
     "output_type": "stream",
     "text": [
      " * Running on http://127.0.0.1:8050/ (Press CTRL+C to quit)\n",
      "127.0.0.1 - - [07/Jun/2021 13:57:36] \"GET / HTTP/1.1\" 200 -\n",
      "127.0.0.1 - - [07/Jun/2021 13:57:37] \"GET /_dash-layout HTTP/1.1\" 200 -\n",
      "127.0.0.1 - - [07/Jun/2021 13:57:37] \"GET /_dash-dependencies HTTP/1.1\" 200 -\n"
     ]
    }
   ],
   "source": [
    "if __name__ == '__main__':\n",
    "    app.run_server()"
   ]
  },
  {
   "cell_type": "markdown",
   "id": "a6e94dfc",
   "metadata": {},
   "source": [
    "#### Creating Ineractive Graph"
   ]
  },
  {
   "cell_type": "code",
   "execution_count": 2,
   "id": "b9448dbf",
   "metadata": {},
   "outputs": [],
   "source": [
    "import pandas as pd\n",
    "import numpy as np\n",
    "\n",
    "import plotly.graph_objs as go"
   ]
  },
  {
   "cell_type": "code",
   "execution_count": 3,
   "id": "849353ae",
   "metadata": {},
   "outputs": [
    {
     "data": {
      "text/html": [
       "<div>\n",
       "<style scoped>\n",
       "    .dataframe tbody tr th:only-of-type {\n",
       "        vertical-align: middle;\n",
       "    }\n",
       "\n",
       "    .dataframe tbody tr th {\n",
       "        vertical-align: top;\n",
       "    }\n",
       "\n",
       "    .dataframe thead th {\n",
       "        text-align: right;\n",
       "    }\n",
       "</style>\n",
       "<table border=\"1\" class=\"dataframe\">\n",
       "  <thead>\n",
       "    <tr style=\"text-align: right;\">\n",
       "      <th></th>\n",
       "      <th>Account</th>\n",
       "      <th>Name</th>\n",
       "      <th>Rep</th>\n",
       "      <th>Manager</th>\n",
       "      <th>Product</th>\n",
       "      <th>Quantity</th>\n",
       "      <th>Price</th>\n",
       "      <th>Status</th>\n",
       "    </tr>\n",
       "  </thead>\n",
       "  <tbody>\n",
       "    <tr>\n",
       "      <th>0</th>\n",
       "      <td>714466</td>\n",
       "      <td>Trantow-Barrows</td>\n",
       "      <td>Craig Booker</td>\n",
       "      <td>Debra Henley</td>\n",
       "      <td>CPU</td>\n",
       "      <td>1</td>\n",
       "      <td>30000</td>\n",
       "      <td>presented</td>\n",
       "    </tr>\n",
       "    <tr>\n",
       "      <th>1</th>\n",
       "      <td>714466</td>\n",
       "      <td>Trantow-Barrows</td>\n",
       "      <td>Craig Booker</td>\n",
       "      <td>Debra Henley</td>\n",
       "      <td>Software</td>\n",
       "      <td>1</td>\n",
       "      <td>10000</td>\n",
       "      <td>presented</td>\n",
       "    </tr>\n",
       "    <tr>\n",
       "      <th>2</th>\n",
       "      <td>714466</td>\n",
       "      <td>Trantow-Barrows</td>\n",
       "      <td>Craig Booker</td>\n",
       "      <td>Debra Henley</td>\n",
       "      <td>Maintenance</td>\n",
       "      <td>2</td>\n",
       "      <td>5000</td>\n",
       "      <td>pending</td>\n",
       "    </tr>\n",
       "    <tr>\n",
       "      <th>3</th>\n",
       "      <td>737550</td>\n",
       "      <td>Fritsch, Russel and Anderson</td>\n",
       "      <td>Craig Booker</td>\n",
       "      <td>Debra Henley</td>\n",
       "      <td>CPU</td>\n",
       "      <td>1</td>\n",
       "      <td>35000</td>\n",
       "      <td>declined</td>\n",
       "    </tr>\n",
       "    <tr>\n",
       "      <th>4</th>\n",
       "      <td>146832</td>\n",
       "      <td>Kiehn-Spinka</td>\n",
       "      <td>Daniel Hilton</td>\n",
       "      <td>Debra Henley</td>\n",
       "      <td>CPU</td>\n",
       "      <td>2</td>\n",
       "      <td>65000</td>\n",
       "      <td>won</td>\n",
       "    </tr>\n",
       "  </tbody>\n",
       "</table>\n",
       "</div>"
      ],
      "text/plain": [
       "   Account                          Name            Rep       Manager  \\\n",
       "0   714466               Trantow-Barrows   Craig Booker  Debra Henley   \n",
       "1   714466               Trantow-Barrows   Craig Booker  Debra Henley   \n",
       "2   714466               Trantow-Barrows   Craig Booker  Debra Henley   \n",
       "3   737550  Fritsch, Russel and Anderson   Craig Booker  Debra Henley   \n",
       "4   146832                  Kiehn-Spinka  Daniel Hilton  Debra Henley   \n",
       "\n",
       "       Product  Quantity  Price     Status  \n",
       "0          CPU         1  30000  presented  \n",
       "1     Software         1  10000  presented  \n",
       "2  Maintenance         2   5000    pending  \n",
       "3          CPU         1  35000   declined  \n",
       "4          CPU         2  65000        won  "
      ]
     },
     "execution_count": 3,
     "metadata": {},
     "output_type": "execute_result"
    }
   ],
   "source": [
    "df=pd.read_excel('salesfunnel.xlsx')\n",
    "df.head()"
   ]
  },
  {
   "cell_type": "code",
   "execution_count": 4,
   "id": "8927c9ac",
   "metadata": {},
   "outputs": [
    {
     "data": {
      "text/html": [
       "<div>\n",
       "<style scoped>\n",
       "    .dataframe tbody tr th:only-of-type {\n",
       "        vertical-align: middle;\n",
       "    }\n",
       "\n",
       "    .dataframe tbody tr th {\n",
       "        vertical-align: top;\n",
       "    }\n",
       "\n",
       "    .dataframe thead tr th {\n",
       "        text-align: left;\n",
       "    }\n",
       "\n",
       "    .dataframe thead tr:last-of-type th {\n",
       "        text-align: right;\n",
       "    }\n",
       "</style>\n",
       "<table border=\"1\" class=\"dataframe\">\n",
       "  <thead>\n",
       "    <tr>\n",
       "      <th></th>\n",
       "      <th colspan=\"4\" halign=\"left\">Quantity</th>\n",
       "    </tr>\n",
       "    <tr>\n",
       "      <th>Status</th>\n",
       "      <th>declined</th>\n",
       "      <th>pending</th>\n",
       "      <th>presented</th>\n",
       "      <th>won</th>\n",
       "    </tr>\n",
       "    <tr>\n",
       "      <th>Name</th>\n",
       "      <th></th>\n",
       "      <th></th>\n",
       "      <th></th>\n",
       "      <th></th>\n",
       "    </tr>\n",
       "  </thead>\n",
       "  <tbody>\n",
       "    <tr>\n",
       "      <th>Barton LLC</th>\n",
       "      <td>1</td>\n",
       "      <td>0</td>\n",
       "      <td>0</td>\n",
       "      <td>0</td>\n",
       "    </tr>\n",
       "    <tr>\n",
       "      <th>Fritsch, Russel and Anderson</th>\n",
       "      <td>1</td>\n",
       "      <td>0</td>\n",
       "      <td>0</td>\n",
       "      <td>0</td>\n",
       "    </tr>\n",
       "    <tr>\n",
       "      <th>Herman LLC</th>\n",
       "      <td>0</td>\n",
       "      <td>0</td>\n",
       "      <td>0</td>\n",
       "      <td>2</td>\n",
       "    </tr>\n",
       "    <tr>\n",
       "      <th>Jerde-Hilpert</th>\n",
       "      <td>0</td>\n",
       "      <td>2</td>\n",
       "      <td>0</td>\n",
       "      <td>0</td>\n",
       "    </tr>\n",
       "    <tr>\n",
       "      <th>Kassulke, Ondricka and Metz</th>\n",
       "      <td>0</td>\n",
       "      <td>0</td>\n",
       "      <td>0</td>\n",
       "      <td>3</td>\n",
       "    </tr>\n",
       "    <tr>\n",
       "      <th>Keeling LLC</th>\n",
       "      <td>0</td>\n",
       "      <td>0</td>\n",
       "      <td>0</td>\n",
       "      <td>5</td>\n",
       "    </tr>\n",
       "    <tr>\n",
       "      <th>Kiehn-Spinka</th>\n",
       "      <td>0</td>\n",
       "      <td>0</td>\n",
       "      <td>0</td>\n",
       "      <td>2</td>\n",
       "    </tr>\n",
       "    <tr>\n",
       "      <th>Koepp Ltd</th>\n",
       "      <td>2</td>\n",
       "      <td>0</td>\n",
       "      <td>2</td>\n",
       "      <td>0</td>\n",
       "    </tr>\n",
       "    <tr>\n",
       "      <th>Kulas Inc</th>\n",
       "      <td>0</td>\n",
       "      <td>2</td>\n",
       "      <td>1</td>\n",
       "      <td>0</td>\n",
       "    </tr>\n",
       "    <tr>\n",
       "      <th>Purdy-Kunde</th>\n",
       "      <td>0</td>\n",
       "      <td>0</td>\n",
       "      <td>1</td>\n",
       "      <td>0</td>\n",
       "    </tr>\n",
       "    <tr>\n",
       "      <th>Stokes LLC</th>\n",
       "      <td>0</td>\n",
       "      <td>1</td>\n",
       "      <td>1</td>\n",
       "      <td>0</td>\n",
       "    </tr>\n",
       "    <tr>\n",
       "      <th>Trantow-Barrows</th>\n",
       "      <td>0</td>\n",
       "      <td>2</td>\n",
       "      <td>2</td>\n",
       "      <td>0</td>\n",
       "    </tr>\n",
       "  </tbody>\n",
       "</table>\n",
       "</div>"
      ],
      "text/plain": [
       "                             Quantity                      \n",
       "Status                       declined pending presented won\n",
       "Name                                                       \n",
       "Barton LLC                          1       0         0   0\n",
       "Fritsch, Russel and Anderson        1       0         0   0\n",
       "Herman LLC                          0       0         0   2\n",
       "Jerde-Hilpert                       0       2         0   0\n",
       "Kassulke, Ondricka and Metz         0       0         0   3\n",
       "Keeling LLC                         0       0         0   5\n",
       "Kiehn-Spinka                        0       0         0   2\n",
       "Koepp Ltd                           2       0         2   0\n",
       "Kulas Inc                           0       2         1   0\n",
       "Purdy-Kunde                         0       0         1   0\n",
       "Stokes LLC                          0       1         1   0\n",
       "Trantow-Barrows                     0       2         2   0"
      ]
     },
     "execution_count": 4,
     "metadata": {},
     "output_type": "execute_result"
    }
   ],
   "source": [
    "pv=pd.pivot_table(df,index=['Name'],columns=['Status'],values=['Quantity'], aggfunc=sum,fill_value=0)\n",
    "pv"
   ]
  },
  {
   "cell_type": "code",
   "execution_count": 5,
   "id": "c00c15cd",
   "metadata": {},
   "outputs": [],
   "source": [
    "trace1=go.Bar(x=pv.index,y=pv[('Quantity','declined')],name='Declined')\n",
    "trace2=go.Bar(x=pv.index,y=pv[('Quantity','pending')],name='Pending')\n",
    "trace3=go.Bar(x=pv.index,y=pv[('Quantity','presented')],name='Presented')\n",
    "trace4=go.Bar(x=pv.index,y=pv[('Quantity','won')],name='Won')"
   ]
  },
  {
   "cell_type": "code",
   "execution_count": 6,
   "id": "199de71f",
   "metadata": {},
   "outputs": [],
   "source": [
    "app=dash.Dash()\n",
    "\n",
    "app.layout=dtml.Div(children=[\n",
    "    dtml.H1(children='Sales Funnel Report'),\n",
    "    dtml.Div(children='''National Sales Funnel Report.'''),\n",
    "    dcc.Graph(\n",
    "        id='example-graph',\n",
    "        figure={\n",
    "            'data':[trace1,trace2,trace3,trace4],\n",
    "            'layout':\n",
    "                go.Layout(title='Order Status by Customer',barmode='stack')\n",
    "        }\n",
    "    )\n",
    "])"
   ]
  },
  {
   "cell_type": "code",
   "execution_count": 7,
   "id": "c7eb42ec",
   "metadata": {},
   "outputs": [
    {
     "name": "stdout",
     "output_type": "stream",
     "text": [
      "Dash is running on http://127.0.0.1:8050/\n",
      "\n",
      " * Serving Flask app '__main__' (lazy loading)\n",
      " * Environment: production\n",
      "   WARNING: This is a development server. Do not use it in a production deployment.\n",
      "   Use a production WSGI server instead.\n",
      " * Debug mode: off\n"
     ]
    },
    {
     "name": "stderr",
     "output_type": "stream",
     "text": [
      " * Running on http://127.0.0.1:8050/ (Press CTRL+C to quit)\n",
      "127.0.0.1 - - [07/Jun/2021 17:29:25] \"GET / HTTP/1.1\" 200 -\n",
      "127.0.0.1 - - [07/Jun/2021 17:29:25] \"GET /_dash-dependencies HTTP/1.1\" 200 -\n",
      "127.0.0.1 - - [07/Jun/2021 17:29:25] \"GET /_dash-layout HTTP/1.1\" 200 -\n"
     ]
    }
   ],
   "source": [
    "if __name__ == '__main__':\n",
    "    app.run_server()"
   ]
  },
  {
   "cell_type": "markdown",
   "id": "59a525f8",
   "metadata": {},
   "source": [
    "#### Interactive Graph using Dashboard"
   ]
  },
  {
   "cell_type": "code",
   "execution_count": 4,
   "id": "224e2b06",
   "metadata": {},
   "outputs": [],
   "source": [
    "import dash\n",
    "import pandas as pd\n",
    "import plotly.express as px\n",
    "import dash_core_components as dcc\n",
    "import dash_html_components as dtml\n",
    "from dash.dependencies import Input,Output"
   ]
  },
  {
   "cell_type": "code",
   "execution_count": 5,
   "id": "e19afa12",
   "metadata": {},
   "outputs": [
    {
     "data": {
      "text/html": [
       "<div>\n",
       "<style scoped>\n",
       "    .dataframe tbody tr th:only-of-type {\n",
       "        vertical-align: middle;\n",
       "    }\n",
       "\n",
       "    .dataframe tbody tr th {\n",
       "        vertical-align: top;\n",
       "    }\n",
       "\n",
       "    .dataframe thead th {\n",
       "        text-align: right;\n",
       "    }\n",
       "</style>\n",
       "<table border=\"1\" class=\"dataframe\">\n",
       "  <thead>\n",
       "    <tr style=\"text-align: right;\">\n",
       "      <th></th>\n",
       "      <th>date</th>\n",
       "      <th>average_price</th>\n",
       "      <th>total_volume</th>\n",
       "      <th>4046</th>\n",
       "      <th>4225</th>\n",
       "      <th>4770</th>\n",
       "      <th>total_bags</th>\n",
       "      <th>small_bags</th>\n",
       "      <th>large_bags</th>\n",
       "      <th>xlarge_bags</th>\n",
       "      <th>type</th>\n",
       "      <th>year</th>\n",
       "      <th>geography</th>\n",
       "    </tr>\n",
       "  </thead>\n",
       "  <tbody>\n",
       "    <tr>\n",
       "      <th>0</th>\n",
       "      <td>2015-01-04</td>\n",
       "      <td>1.22</td>\n",
       "      <td>40873.28</td>\n",
       "      <td>2819.50</td>\n",
       "      <td>28287.42</td>\n",
       "      <td>49.90</td>\n",
       "      <td>9716.46</td>\n",
       "      <td>9186.93</td>\n",
       "      <td>529.53</td>\n",
       "      <td>0.0</td>\n",
       "      <td>conventional</td>\n",
       "      <td>2015</td>\n",
       "      <td>Albany</td>\n",
       "    </tr>\n",
       "    <tr>\n",
       "      <th>1</th>\n",
       "      <td>2015-01-04</td>\n",
       "      <td>1.79</td>\n",
       "      <td>1373.95</td>\n",
       "      <td>57.42</td>\n",
       "      <td>153.88</td>\n",
       "      <td>0.00</td>\n",
       "      <td>1162.65</td>\n",
       "      <td>1162.65</td>\n",
       "      <td>0.00</td>\n",
       "      <td>0.0</td>\n",
       "      <td>organic</td>\n",
       "      <td>2015</td>\n",
       "      <td>Albany</td>\n",
       "    </tr>\n",
       "    <tr>\n",
       "      <th>2</th>\n",
       "      <td>2015-01-04</td>\n",
       "      <td>1.00</td>\n",
       "      <td>435021.49</td>\n",
       "      <td>364302.39</td>\n",
       "      <td>23821.16</td>\n",
       "      <td>82.15</td>\n",
       "      <td>46815.79</td>\n",
       "      <td>16707.15</td>\n",
       "      <td>30108.64</td>\n",
       "      <td>0.0</td>\n",
       "      <td>conventional</td>\n",
       "      <td>2015</td>\n",
       "      <td>Atlanta</td>\n",
       "    </tr>\n",
       "    <tr>\n",
       "      <th>3</th>\n",
       "      <td>2015-01-04</td>\n",
       "      <td>1.76</td>\n",
       "      <td>3846.69</td>\n",
       "      <td>1500.15</td>\n",
       "      <td>938.35</td>\n",
       "      <td>0.00</td>\n",
       "      <td>1408.19</td>\n",
       "      <td>1071.35</td>\n",
       "      <td>336.84</td>\n",
       "      <td>0.0</td>\n",
       "      <td>organic</td>\n",
       "      <td>2015</td>\n",
       "      <td>Atlanta</td>\n",
       "    </tr>\n",
       "    <tr>\n",
       "      <th>4</th>\n",
       "      <td>2015-01-04</td>\n",
       "      <td>1.08</td>\n",
       "      <td>788025.06</td>\n",
       "      <td>53987.31</td>\n",
       "      <td>552906.04</td>\n",
       "      <td>39995.03</td>\n",
       "      <td>141136.68</td>\n",
       "      <td>137146.07</td>\n",
       "      <td>3990.61</td>\n",
       "      <td>0.0</td>\n",
       "      <td>conventional</td>\n",
       "      <td>2015</td>\n",
       "      <td>Baltimore/Washington</td>\n",
       "    </tr>\n",
       "  </tbody>\n",
       "</table>\n",
       "</div>"
      ],
      "text/plain": [
       "         date  average_price  total_volume       4046       4225      4770  \\\n",
       "0  2015-01-04           1.22      40873.28    2819.50   28287.42     49.90   \n",
       "1  2015-01-04           1.79       1373.95      57.42     153.88      0.00   \n",
       "2  2015-01-04           1.00     435021.49  364302.39   23821.16     82.15   \n",
       "3  2015-01-04           1.76       3846.69    1500.15     938.35      0.00   \n",
       "4  2015-01-04           1.08     788025.06   53987.31  552906.04  39995.03   \n",
       "\n",
       "   total_bags  small_bags  large_bags  xlarge_bags          type  year  \\\n",
       "0     9716.46     9186.93      529.53          0.0  conventional  2015   \n",
       "1     1162.65     1162.65        0.00          0.0       organic  2015   \n",
       "2    46815.79    16707.15    30108.64          0.0  conventional  2015   \n",
       "3     1408.19     1071.35      336.84          0.0       organic  2015   \n",
       "4   141136.68   137146.07     3990.61          0.0  conventional  2015   \n",
       "\n",
       "              geography  \n",
       "0                Albany  \n",
       "1                Albany  \n",
       "2               Atlanta  \n",
       "3               Atlanta  \n",
       "4  Baltimore/Washington  "
      ]
     },
     "execution_count": 5,
     "metadata": {},
     "output_type": "execute_result"
    }
   ],
   "source": [
    "df=pd.read_csv('https://raw.githubusercontent.com/yuxuanwu17/INT303-Avocado-prediction/main/avocado-updated-2020.csv')\n",
    "df.head()"
   ]
  },
  {
   "cell_type": "code",
   "execution_count": 8,
   "id": "d6749d9e",
   "metadata": {},
   "outputs": [],
   "source": [
    "app=dash.Dash()\n",
    "\n",
    "app.layout=dtml.Div(children=[\n",
    "    dtml.H1(children='Avacado Price Dash Board'),\n",
    "    dcc.Dropdown(id='geo-dropdown',\n",
    "                options=[{'label':i,'value':i}\n",
    "                    for i in df['geography'].unique()],\n",
    "                value='New York'),\n",
    "    dcc.Graph(id='price_graph')\n",
    "])\n",
    "\n",
    "@app.callback(\n",
    "    Output('price_graph','figure'),\n",
    "    Input('geo-dropdown','value')\n",
    ")\n",
    "\n",
    "def update_graph(selected_geography):\n",
    "    dff=df[df.geography==selected_geography]\n",
    "    line_fig=px.line(dff,\n",
    "                    x='date',y='average_price',\n",
    "                    color='type',\n",
    "                    title=f'Avacado Prices in {selected_geography}')\n",
    "    return line_fig"
   ]
  },
  {
   "cell_type": "code",
   "execution_count": 9,
   "id": "c0d5fd25",
   "metadata": {},
   "outputs": [
    {
     "name": "stdout",
     "output_type": "stream",
     "text": [
      "Dash is running on http://127.0.0.1:8050/\n",
      "\n",
      "Dash is running on http://127.0.0.1:8050/\n",
      "\n",
      " * Serving Flask app '__main__' (lazy loading)\n",
      " * Environment: production\n",
      "   WARNING: This is a development server. Do not use it in a production deployment.\n",
      "   Use a production WSGI server instead.\n",
      " * Debug mode: off\n"
     ]
    },
    {
     "name": "stderr",
     "output_type": "stream",
     "text": [
      " * Running on http://127.0.0.1:8050/ (Press CTRL+C to quit)\n",
      "127.0.0.1 - - [07/Jun/2021 18:07:44] \"GET / HTTP/1.1\" 200 -\n",
      "127.0.0.1 - - [07/Jun/2021 18:07:44] \"GET /_dash-layout HTTP/1.1\" 200 -\n",
      "127.0.0.1 - - [07/Jun/2021 18:07:44] \"GET /_dash-dependencies HTTP/1.1\" 200 -\n",
      "127.0.0.1 - - [07/Jun/2021 18:07:44] \"POST /_dash-update-component HTTP/1.1\" 200 -\n",
      "127.0.0.1 - - [07/Jun/2021 18:07:54] \"POST /_dash-update-component HTTP/1.1\" 200 -\n"
     ]
    }
   ],
   "source": [
    "if __name__ == '__main__':\n",
    "    app.run_server()"
   ]
  },
  {
   "cell_type": "code",
   "execution_count": null,
   "id": "ff69ac7a",
   "metadata": {},
   "outputs": [],
   "source": []
  }
 ],
 "metadata": {
  "kernelspec": {
   "display_name": "Python 3",
   "language": "python",
   "name": "python3"
  },
  "language_info": {
   "codemirror_mode": {
    "name": "ipython",
    "version": 3
   },
   "file_extension": ".py",
   "mimetype": "text/x-python",
   "name": "python",
   "nbconvert_exporter": "python",
   "pygments_lexer": "ipython3",
   "version": "3.8.10"
  }
 },
 "nbformat": 4,
 "nbformat_minor": 5
}
