{
 "cells": [
  {
   "cell_type": "code",
   "execution_count": 1,
   "id": "81711f19",
   "metadata": {},
   "outputs": [],
   "source": [
    "from pyspark import SparkConf,SparkContext\n",
    "from pyspark.sql import SparkSession"
   ]
  },
  {
   "cell_type": "code",
   "execution_count": 2,
   "id": "64ff2872",
   "metadata": {},
   "outputs": [],
   "source": [
    "spark=SparkSession\\\n",
    "        .builder.appName('RDS Connection')\\\n",
    "        .config('spark.jars','mysql-connector-java-8.0.25.jar')\\\n",
    "        .getOrCreate()"
   ]
  },
  {
   "cell_type": "code",
   "execution_count": 3,
   "id": "6c903816",
   "metadata": {},
   "outputs": [
    {
     "name": "stdout",
     "output_type": "stream",
     "text": [
      "+--------------------+---------+\n",
      "|              userId|   loanId|\n",
      "+--------------------+---------+\n",
      "|06ebc429-8987-478...|MX-2582-1|\n",
      "|06ebc429-8987-478...|MX-2582-2|\n",
      "|00335c42-70c0-416...| MX-368-3|\n",
      "|00335c42-70c0-416...| MX-368-1|\n",
      "|00335c42-70c0-416...| MX-368-2|\n",
      "+--------------------+---------+\n",
      "only showing top 5 rows\n",
      "\n",
      "Wall time: 23.9 s\n"
     ]
    }
   ],
   "source": [
    "%%time\n",
    "\n",
    "mysql_select_query='(select userId,loanId from userloan)as userloan'\n",
    "\n",
    "mysql_jdbc_url='jdbc:mysql://mydb.comrcebmnhti.us-east-2.rds.amazonaws.com:3306/coddletech'\n",
    "\n",
    "tbl_data = spark.read.format('jdbc')\\\n",
    "            .option('url',mysql_jdbc_url)\\\n",
    "            .option('driver','com.mysql.jdbc.Driver')\\\n",
    "            .option('dbtable',mysql_select_query)\\\n",
    "            .option('user','admin')\\\n",
    "            .option('password','1996Aswin')\\\n",
    "            .load()\n",
    "\n",
    "tbl_data.show(5)"
   ]
  },
  {
   "cell_type": "code",
   "execution_count": 4,
   "id": "ddc8ff58",
   "metadata": {},
   "outputs": [
    {
     "name": "stdout",
     "output_type": "stream",
     "text": [
      "+----------+-----+\n",
      "|total_loan|count|\n",
      "+----------+-----+\n",
      "|         1|  449|\n",
      "|         2|  327|\n",
      "|         3|  223|\n",
      "|         4|  112|\n",
      "|         5|   55|\n",
      "|         6|   27|\n",
      "|         7|    9|\n",
      "|         8|    6|\n",
      "|         9|    6|\n",
      "|        10|    1|\n",
      "|        11|    1|\n",
      "|        13|    1|\n",
      "+----------+-----+\n",
      "\n"
     ]
    }
   ],
   "source": [
    "loan_count=tbl_data.groupby('userId').count().withColumnRenamed('count','total_loan').groupBy('total_loan').count()\n",
    "loan_count=loan_count.orderBy('total_loan')\n",
    "loan_count.show()"
   ]
  },
  {
   "cell_type": "code",
   "execution_count": null,
   "id": "5aa018f1",
   "metadata": {},
   "outputs": [],
   "source": [
    "loan_count.write.format('jdbc')\\\n",
    "            .option('url',mysql_jdbc_url)\\\n",
    "            .option('driver','com.mysql.jdbc.Driver')\\\n",
    "            .option('dbtable','loan_count')\\\n",
    "            .option('user','admin')\\\n",
    "            .option('mode','append')\\\n",
    "            .option('password','1996Aswin')\\\n",
    "            .save()"
   ]
  },
  {
   "cell_type": "code",
   "execution_count": null,
   "id": "73df323c",
   "metadata": {},
   "outputs": [],
   "source": []
  }
 ],
 "metadata": {
  "kernelspec": {
   "display_name": "Python 3",
   "language": "python",
   "name": "python3"
  },
  "language_info": {
   "codemirror_mode": {
    "name": "ipython",
    "version": 3
   },
   "file_extension": ".py",
   "mimetype": "text/x-python",
   "name": "python",
   "nbconvert_exporter": "python",
   "pygments_lexer": "ipython3",
   "version": "3.8.10"
  }
 },
 "nbformat": 4,
 "nbformat_minor": 5
}
