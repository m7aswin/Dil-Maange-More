{
 "cells": [
  {
   "cell_type": "code",
   "execution_count": 1,
   "id": "1ead8df4",
   "metadata": {},
   "outputs": [
    {
     "data": {
      "text/plain": [
       "'C:\\\\Spark\\\\spark-3.1.2-bin-hadoop3.2'"
      ]
     },
     "execution_count": 1,
     "metadata": {},
     "output_type": "execute_result"
    }
   ],
   "source": [
    "# Testing pyspark installation\n",
    "\n",
    "import pyspark\n",
    "import findspark\n",
    "findspark.init()\n",
    "findspark.find()"
   ]
  },
  {
   "cell_type": "code",
   "execution_count": 2,
   "id": "a51f0c68",
   "metadata": {},
   "outputs": [],
   "source": [
    "# initiate spark content\n",
    "\n",
    "from pyspark import SparkContext,SparkConf\n",
    "from pyspark.sql import SparkSession\n",
    "\n",
    "conf=SparkConf().setAppName('sparkApp').setMaster('local')\n",
    "sc=SparkContext(conf=conf)\n",
    "spark=SparkSession(sc)"
   ]
  },
  {
   "cell_type": "code",
   "execution_count": 3,
   "id": "7a75598f",
   "metadata": {},
   "outputs": [
    {
     "data": {
      "text/html": [
       "\n",
       "            <div>\n",
       "                <p><b>SparkSession - in-memory</b></p>\n",
       "                \n",
       "        <div>\n",
       "            <p><b>SparkContext</b></p>\n",
       "\n",
       "            <p><a href=\"http://DESKTOP-NMFHPTH:4041\">Spark UI</a></p>\n",
       "\n",
       "            <dl>\n",
       "              <dt>Version</dt>\n",
       "                <dd><code>v3.1.2</code></dd>\n",
       "              <dt>Master</dt>\n",
       "                <dd><code>local</code></dd>\n",
       "              <dt>AppName</dt>\n",
       "                <dd><code>sparkApp</code></dd>\n",
       "            </dl>\n",
       "        </div>\n",
       "        \n",
       "            </div>\n",
       "        "
      ],
      "text/plain": [
       "<pyspark.sql.session.SparkSession at 0x1f5f6409400>"
      ]
     },
     "execution_count": 3,
     "metadata": {},
     "output_type": "execute_result"
    }
   ],
   "source": [
    "spark"
   ]
  },
  {
   "cell_type": "code",
   "execution_count": 4,
   "id": "c78c9432",
   "metadata": {},
   "outputs": [],
   "source": [
    "# Example Test Code\n",
    "\n",
    "numeric_val=sc.parallelize([1,2,3,4])"
   ]
  },
  {
   "cell_type": "code",
   "execution_count": 5,
   "id": "80a2d524",
   "metadata": {},
   "outputs": [
    {
     "data": {
      "text/plain": [
       "[1, 8, 27, 64]"
      ]
     },
     "execution_count": 5,
     "metadata": {},
     "output_type": "execute_result"
    }
   ],
   "source": [
    "numeric_val.map(lambda x:x**3).collect()"
   ]
  },
  {
   "cell_type": "code",
   "execution_count": 6,
   "id": "089e1205",
   "metadata": {},
   "outputs": [],
   "source": [
    "# Stop the Session\n",
    "\n",
    "sc.stop()"
   ]
  },
  {
   "cell_type": "code",
   "execution_count": 7,
   "id": "c8dfe293",
   "metadata": {},
   "outputs": [],
   "source": [
    "spark=SparkSession.builder.appName('practice').getOrCreate()"
   ]
  },
  {
   "cell_type": "code",
   "execution_count": 8,
   "id": "03ea450b",
   "metadata": {},
   "outputs": [
    {
     "data": {
      "text/html": [
       "\n",
       "            <div>\n",
       "                <p><b>SparkSession - in-memory</b></p>\n",
       "                \n",
       "        <div>\n",
       "            <p><b>SparkContext</b></p>\n",
       "\n",
       "            <p><a href=\"http://DESKTOP-NMFHPTH:4041\">Spark UI</a></p>\n",
       "\n",
       "            <dl>\n",
       "              <dt>Version</dt>\n",
       "                <dd><code>v3.1.2</code></dd>\n",
       "              <dt>Master</dt>\n",
       "                <dd><code>local</code></dd>\n",
       "              <dt>AppName</dt>\n",
       "                <dd><code>practice</code></dd>\n",
       "            </dl>\n",
       "        </div>\n",
       "        \n",
       "            </div>\n",
       "        "
      ],
      "text/plain": [
       "<pyspark.sql.session.SparkSession at 0x1f5f65cc6a0>"
      ]
     },
     "execution_count": 8,
     "metadata": {},
     "output_type": "execute_result"
    }
   ],
   "source": [
    "spark"
   ]
  },
  {
   "cell_type": "code",
   "execution_count": 9,
   "id": "4f517395",
   "metadata": {},
   "outputs": [],
   "source": [
    "spark.stop()"
   ]
  },
  {
   "cell_type": "markdown",
   "id": "f4ade42a",
   "metadata": {},
   "source": [
    "#### Pyspark DataFrame"
   ]
  },
  {
   "cell_type": "code",
   "execution_count": 10,
   "id": "951578b7",
   "metadata": {},
   "outputs": [],
   "source": [
    "spark=SparkSession.builder.appName('DataFrame').getOrCreate()"
   ]
  },
  {
   "cell_type": "code",
   "execution_count": 11,
   "id": "e3441bc8",
   "metadata": {},
   "outputs": [
    {
     "data": {
      "text/html": [
       "\n",
       "            <div>\n",
       "                <p><b>SparkSession - in-memory</b></p>\n",
       "                \n",
       "        <div>\n",
       "            <p><b>SparkContext</b></p>\n",
       "\n",
       "            <p><a href=\"http://DESKTOP-NMFHPTH:4041\">Spark UI</a></p>\n",
       "\n",
       "            <dl>\n",
       "              <dt>Version</dt>\n",
       "                <dd><code>v3.1.2</code></dd>\n",
       "              <dt>Master</dt>\n",
       "                <dd><code>local</code></dd>\n",
       "              <dt>AppName</dt>\n",
       "                <dd><code>DataFrame</code></dd>\n",
       "            </dl>\n",
       "        </div>\n",
       "        \n",
       "            </div>\n",
       "        "
      ],
      "text/plain": [
       "<pyspark.sql.session.SparkSession at 0x1f5f65cc6d0>"
      ]
     },
     "execution_count": 11,
     "metadata": {},
     "output_type": "execute_result"
    }
   ],
   "source": [
    "spark"
   ]
  },
  {
   "cell_type": "code",
   "execution_count": 12,
   "id": "896e06a5",
   "metadata": {},
   "outputs": [
    {
     "name": "stdout",
     "output_type": "stream",
     "text": [
      "+----+--------+---+------+\n",
      "| _c0|     _c1|_c2|   _c3|\n",
      "+----+--------+---+------+\n",
      "|area|bedrooms|age| price|\n",
      "|2600|       3| 20|550000|\n",
      "|3000|       4| 15|565000|\n",
      "|3200|    null| 18|610000|\n",
      "|3600|       3| 30|595000|\n",
      "|4000|       5|  8|760000|\n",
      "|4100|       6|  8|810000|\n",
      "+----+--------+---+------+\n",
      "\n"
     ]
    }
   ],
   "source": [
    "df_pyspark=spark.read.csv('homeprices.csv')\n",
    "\n",
    "df_pyspark.show()"
   ]
  },
  {
   "cell_type": "code",
   "execution_count": 13,
   "id": "d98645f8",
   "metadata": {},
   "outputs": [
    {
     "name": "stdout",
     "output_type": "stream",
     "text": [
      "+----+--------+---+------+\n",
      "|area|bedrooms|age| price|\n",
      "+----+--------+---+------+\n",
      "|2600|       3| 20|550000|\n",
      "|3000|       4| 15|565000|\n",
      "|3200|    null| 18|610000|\n",
      "|3600|       3| 30|595000|\n",
      "|4000|       5|  8|760000|\n",
      "|4100|       6|  8|810000|\n",
      "+----+--------+---+------+\n",
      "\n"
     ]
    }
   ],
   "source": [
    "df_pyspark=spark.read.csv('homeprices.csv',header=True)\n",
    "\n",
    "df_pyspark.show()"
   ]
  },
  {
   "cell_type": "code",
   "execution_count": 14,
   "id": "199caa56",
   "metadata": {},
   "outputs": [
    {
     "name": "stdout",
     "output_type": "stream",
     "text": [
      "root\n",
      " |-- area: string (nullable = true)\n",
      " |-- bedrooms: string (nullable = true)\n",
      " |-- age: string (nullable = true)\n",
      " |-- price: string (nullable = true)\n",
      "\n"
     ]
    }
   ],
   "source": [
    "# Check the schema\n",
    "\n",
    "df_pyspark.printSchema()"
   ]
  },
  {
   "cell_type": "code",
   "execution_count": 15,
   "id": "2290a634",
   "metadata": {},
   "outputs": [
    {
     "name": "stdout",
     "output_type": "stream",
     "text": [
      "+----+--------+---+------+\n",
      "|area|bedrooms|age| price|\n",
      "+----+--------+---+------+\n",
      "|2600|       3| 20|550000|\n",
      "|3000|       4| 15|565000|\n",
      "|3200|    null| 18|610000|\n",
      "|3600|       3| 30|595000|\n",
      "|4000|       5|  8|760000|\n",
      "|4100|       6|  8|810000|\n",
      "+----+--------+---+------+\n",
      "\n"
     ]
    }
   ],
   "source": [
    "# Changing inferschema value\n",
    "\n",
    "df_pyspark=spark.read.csv('homeprices.csv',inferSchema=True,header=True)\n",
    "\n",
    "df_pyspark.show()"
   ]
  },
  {
   "cell_type": "code",
   "execution_count": 16,
   "id": "b9915f80",
   "metadata": {},
   "outputs": [
    {
     "name": "stdout",
     "output_type": "stream",
     "text": [
      "root\n",
      " |-- area: integer (nullable = true)\n",
      " |-- bedrooms: integer (nullable = true)\n",
      " |-- age: integer (nullable = true)\n",
      " |-- price: integer (nullable = true)\n",
      "\n"
     ]
    }
   ],
   "source": [
    "# Check the schema\n",
    "\n",
    "df_pyspark.printSchema()"
   ]
  },
  {
   "cell_type": "code",
   "execution_count": 17,
   "id": "8f41023f",
   "metadata": {},
   "outputs": [],
   "source": [
    "spark.stop()"
   ]
  },
  {
   "cell_type": "markdown",
   "id": "984d6ac9",
   "metadata": {},
   "source": [
    "#### RDD Transformation and Actions"
   ]
  },
  {
   "cell_type": "code",
   "execution_count": 18,
   "id": "02e4d03f",
   "metadata": {},
   "outputs": [
    {
     "name": "stdout",
     "output_type": "stream",
     "text": [
      "Overwriting example.txt\n"
     ]
    }
   ],
   "source": [
    "%%writefile example.txt\n",
    "first \n",
    "second line\n",
    "the third line\n",
    "then a fourth line"
   ]
  },
  {
   "cell_type": "code",
   "execution_count": 19,
   "id": "c1b058c3",
   "metadata": {},
   "outputs": [],
   "source": [
    "sc=SparkContext()"
   ]
  },
  {
   "cell_type": "code",
   "execution_count": 20,
   "id": "644eab4d",
   "metadata": {},
   "outputs": [
    {
     "data": {
      "text/plain": [
       "example.txt MapPartitionsRDD[1] at textFile at <unknown>:0"
      ]
     },
     "execution_count": 20,
     "metadata": {},
     "output_type": "execute_result"
    }
   ],
   "source": [
    "sc.textFile('example.txt')"
   ]
  },
  {
   "cell_type": "code",
   "execution_count": 21,
   "id": "92121906",
   "metadata": {},
   "outputs": [],
   "source": [
    "text_rdd=sc.textFile('example.txt')"
   ]
  },
  {
   "cell_type": "code",
   "execution_count": 22,
   "id": "b9c2c204",
   "metadata": {},
   "outputs": [],
   "source": [
    "# Transformation\n",
    "\n",
    "words=text_rdd.map(lambda line:line.split())"
   ]
  },
  {
   "cell_type": "code",
   "execution_count": 23,
   "id": "4184af4a",
   "metadata": {},
   "outputs": [
    {
     "data": {
      "text/plain": [
       "[['first'],\n",
       " ['second', 'line'],\n",
       " ['the', 'third', 'line'],\n",
       " ['then', 'a', 'fourth', 'line']]"
      ]
     },
     "execution_count": 23,
     "metadata": {},
     "output_type": "execute_result"
    }
   ],
   "source": [
    "words.collect()"
   ]
  },
  {
   "cell_type": "code",
   "execution_count": 24,
   "id": "e6bd5fc0",
   "metadata": {},
   "outputs": [
    {
     "data": {
      "text/plain": [
       "['first ', 'second line', 'the third line', 'then a fourth line']"
      ]
     },
     "execution_count": 24,
     "metadata": {},
     "output_type": "execute_result"
    }
   ],
   "source": [
    "text_rdd.collect()"
   ]
  },
  {
   "cell_type": "code",
   "execution_count": 25,
   "id": "776d38f8",
   "metadata": {},
   "outputs": [
    {
     "data": {
      "text/plain": [
       "['first',\n",
       " 'second',\n",
       " 'line',\n",
       " 'the',\n",
       " 'third',\n",
       " 'line',\n",
       " 'then',\n",
       " 'a',\n",
       " 'fourth',\n",
       " 'line']"
      ]
     },
     "execution_count": 25,
     "metadata": {},
     "output_type": "execute_result"
    }
   ],
   "source": [
    "# map vs flatMap\n",
    "\n",
    "text_rdd.flatMap(lambda line:line.split()).collect()"
   ]
  },
  {
   "cell_type": "code",
   "execution_count": 26,
   "id": "9054bd55",
   "metadata": {},
   "outputs": [
    {
     "name": "stdout",
     "output_type": "stream",
     "text": [
      "Overwriting service.txt\n"
     ]
    }
   ],
   "source": [
    "%%writefile service.txt\n",
    "#EventId   TimeStamp    Customer   State   ServiceId   Amount\n",
    "201        10/13/2017    100        NY        131       100.00\n",
    "204        10/18/2017    700        TX        129       450.00\n",
    "202        10/15/2017    203        CA        121       200.00\n",
    "206        10/19/2017    202        CA        131       500.00\n",
    "203        10/17/2017    101        NY        173       750.00\n",
    "205        10/19/2017    202        TX        121       200.00"
   ]
  },
  {
   "cell_type": "code",
   "execution_count": 27,
   "id": "2913dbc7",
   "metadata": {},
   "outputs": [],
   "source": [
    "services=sc.textFile('service.txt')"
   ]
  },
  {
   "cell_type": "code",
   "execution_count": 28,
   "id": "3e579a0c",
   "metadata": {},
   "outputs": [
    {
     "data": {
      "text/plain": [
       "['#EventId   TimeStamp    Customer   State   ServiceId   Amount',\n",
       " '201        10/13/2017    100        NY        131       100.00']"
      ]
     },
     "execution_count": 28,
     "metadata": {},
     "output_type": "execute_result"
    }
   ],
   "source": [
    "services.take(2)"
   ]
  },
  {
   "cell_type": "code",
   "execution_count": 29,
   "id": "a25a1c57",
   "metadata": {},
   "outputs": [
    {
     "data": {
      "text/plain": [
       "[['#EventId', 'TimeStamp', 'Customer', 'State', 'ServiceId', 'Amount'],\n",
       " ['201', '10/13/2017', '100', 'NY', '131', '100.00'],\n",
       " ['204', '10/18/2017', '700', 'TX', '129', '450.00']]"
      ]
     },
     "execution_count": 29,
     "metadata": {},
     "output_type": "execute_result"
    }
   ],
   "source": [
    "services.map(lambda line:line.split()).take(3)"
   ]
  },
  {
   "cell_type": "code",
   "execution_count": 30,
   "id": "06dbf749",
   "metadata": {},
   "outputs": [
    {
     "data": {
      "text/plain": [
       "['EventId   TimeStamp    Customer   State   ServiceId   Amount',\n",
       " '201        10/13/2017    100        NY        131       100.00',\n",
       " '204        10/18/2017    700        TX        129       450.00',\n",
       " '202        10/15/2017    203        CA        121       200.00',\n",
       " '206        10/19/2017    202        CA        131       500.00',\n",
       " '203        10/17/2017    101        NY        173       750.00',\n",
       " '205        10/19/2017    202        TX        121       200.00']"
      ]
     },
     "execution_count": 30,
     "metadata": {},
     "output_type": "execute_result"
    }
   ],
   "source": [
    "services.map(lambda line:line[1:] if line[0]=='#' else line).collect()"
   ]
  },
  {
   "cell_type": "code",
   "execution_count": 31,
   "id": "6e3a66e8",
   "metadata": {},
   "outputs": [],
   "source": [
    "clean=services.map(lambda line:line[1:] if line[0]=='#' else line)"
   ]
  },
  {
   "cell_type": "code",
   "execution_count": 32,
   "id": "b0bb597a",
   "metadata": {},
   "outputs": [
    {
     "data": {
      "text/plain": [
       "[['EventId', 'TimeStamp', 'Customer', 'State', 'ServiceId', 'Amount'],\n",
       " ['201', '10/13/2017', '100', 'NY', '131', '100.00'],\n",
       " ['204', '10/18/2017', '700', 'TX', '129', '450.00'],\n",
       " ['202', '10/15/2017', '203', 'CA', '121', '200.00'],\n",
       " ['206', '10/19/2017', '202', 'CA', '131', '500.00'],\n",
       " ['203', '10/17/2017', '101', 'NY', '173', '750.00'],\n",
       " ['205', '10/19/2017', '202', 'TX', '121', '200.00']]"
      ]
     },
     "execution_count": 32,
     "metadata": {},
     "output_type": "execute_result"
    }
   ],
   "source": [
    "clean=clean.map(lambda line:line.split())\n",
    "clean.collect()"
   ]
  },
  {
   "cell_type": "code",
   "execution_count": 33,
   "id": "b9168ac5",
   "metadata": {},
   "outputs": [],
   "source": [
    "pairs= clean.map(lambda lst: (lst[3],lst[-1]))"
   ]
  },
  {
   "cell_type": "code",
   "execution_count": 34,
   "id": "a7543784",
   "metadata": {
    "scrolled": true
   },
   "outputs": [
    {
     "data": {
      "text/plain": [
       "[('State', 'Amount'),\n",
       " ('NY', '100.00'),\n",
       " ('TX', '450.00'),\n",
       " ('CA', '200.00'),\n",
       " ('CA', '500.00'),\n",
       " ('NY', '750.00'),\n",
       " ('TX', '200.00')]"
      ]
     },
     "execution_count": 34,
     "metadata": {},
     "output_type": "execute_result"
    }
   ],
   "source": [
    "pairs.collect()"
   ]
  },
  {
   "cell_type": "code",
   "execution_count": 35,
   "id": "b1a81c0e",
   "metadata": {},
   "outputs": [],
   "source": [
    "rekey=pairs.reduceByKey(lambda amt1,amt2 : float(amt1)+float(amt2))"
   ]
  },
  {
   "cell_type": "code",
   "execution_count": 36,
   "id": "3791d4b0",
   "metadata": {},
   "outputs": [
    {
     "data": {
      "text/plain": [
       "[('State', 'Amount'), ('NY', 850.0), ('TX', 650.0), ('CA', 700.0)]"
      ]
     },
     "execution_count": 36,
     "metadata": {},
     "output_type": "execute_result"
    }
   ],
   "source": [
    "rekey.collect()"
   ]
  },
  {
   "cell_type": "code",
   "execution_count": 37,
   "id": "7f6a9188",
   "metadata": {},
   "outputs": [
    {
     "data": {
      "text/plain": [
       "[('NY', 850.0), ('CA', 700.0), ('TX', 650.0)]"
      ]
     },
     "execution_count": 37,
     "metadata": {},
     "output_type": "execute_result"
    }
   ],
   "source": [
    "# Grab (State, Amount)\n",
    "step1= clean.map(lambda lst: (lst[3],lst[-1]))\n",
    "\n",
    "# resuce by key\n",
    "step2=step1.reduceByKey(lambda amt1,amt2:float(amt1)+float(amt2))\n",
    "\n",
    "# Get rid of state,amount titles\n",
    "step3=step2.filter(lambda x : not x[0]=='State')\n",
    "\n",
    "# Sort Resulty by Amount\n",
    "step4=step3.sortBy(lambda stAmount: stAmount[1],ascending=False)\n",
    "\n",
    "# Perfoem Action\n",
    "step4.collect()"
   ]
  },
  {
   "cell_type": "code",
   "execution_count": 38,
   "id": "960324f2",
   "metadata": {},
   "outputs": [],
   "source": [
    "def func1(lst):\n",
    "    return lst[-1]"
   ]
  },
  {
   "cell_type": "code",
   "execution_count": 39,
   "id": "5525d7b7",
   "metadata": {},
   "outputs": [],
   "source": [
    "x=['ID','State','Amount']"
   ]
  },
  {
   "cell_type": "code",
   "execution_count": 40,
   "id": "d25a61ae",
   "metadata": {},
   "outputs": [
    {
     "data": {
      "text/plain": [
       "'Amount'"
      ]
     },
     "execution_count": 40,
     "metadata": {},
     "output_type": "execute_result"
    }
   ],
   "source": [
    "func1(x)"
   ]
  },
  {
   "cell_type": "code",
   "execution_count": 41,
   "id": "57500c51",
   "metadata": {},
   "outputs": [],
   "source": [
    "def func2(lst):\n",
    "    (id,state,amt)=lst\n",
    "    return amt"
   ]
  },
  {
   "cell_type": "code",
   "execution_count": 42,
   "id": "cf4faf27",
   "metadata": {},
   "outputs": [
    {
     "data": {
      "text/plain": [
       "'Amount'"
      ]
     },
     "execution_count": 42,
     "metadata": {},
     "output_type": "execute_result"
    }
   ],
   "source": [
    "func2(x)"
   ]
  },
  {
   "cell_type": "markdown",
   "id": "34a0e7a8",
   "metadata": {},
   "source": [
    "#### Groupby"
   ]
  },
  {
   "cell_type": "code",
   "execution_count": 43,
   "id": "8ee1d54f",
   "metadata": {},
   "outputs": [
    {
     "data": {
      "text/plain": [
       "[['EventId', 'TimeStamp', 'Customer', 'State', 'ServiceId', 'Amount'],\n",
       " ['201', '10/13/2017', '100', 'NY', '131', '100.00'],\n",
       " ['204', '10/18/2017', '700', 'TX', '129', '450.00'],\n",
       " ['202', '10/15/2017', '203', 'CA', '121', '200.00'],\n",
       " ['206', '10/19/2017', '202', 'CA', '131', '500.00'],\n",
       " ['203', '10/17/2017', '101', 'NY', '173', '750.00'],\n",
       " ['205', '10/19/2017', '202', 'TX', '121', '200.00']]"
      ]
     },
     "execution_count": 43,
     "metadata": {},
     "output_type": "execute_result"
    }
   ],
   "source": [
    "clean.collect()"
   ]
  },
  {
   "cell_type": "code",
   "execution_count": 44,
   "id": "1fb96103",
   "metadata": {},
   "outputs": [
    {
     "data": {
      "text/plain": [
       "[('NY',\n",
       "  [['201', '10/13/2017', '100', 'NY', '131', '100.00'],\n",
       "   ['203', '10/17/2017', '101', 'NY', '173', '750.00']]),\n",
       " ('TX',\n",
       "  [['204', '10/18/2017', '700', 'TX', '129', '450.00'],\n",
       "   ['205', '10/19/2017', '202', 'TX', '121', '200.00']]),\n",
       " ('CA',\n",
       "  [['202', '10/15/2017', '203', 'CA', '121', '200.00'],\n",
       "   ['206', '10/19/2017', '202', 'CA', '131', '500.00']])]"
      ]
     },
     "execution_count": 44,
     "metadata": {},
     "output_type": "execute_result"
    }
   ],
   "source": [
    "grp=clean.groupBy(lambda x: x[3])\n",
    "[(k,list(v)) for (k,v) in grp.take(5)][1:]"
   ]
  },
  {
   "cell_type": "code",
   "execution_count": null,
   "id": "29df7276",
   "metadata": {},
   "outputs": [],
   "source": []
  },
  {
   "cell_type": "markdown",
   "id": "1d9c9f4a",
   "metadata": {},
   "source": [
    "#### Getting Sample"
   ]
  },
  {
   "cell_type": "code",
   "execution_count": 45,
   "id": "553d8767",
   "metadata": {},
   "outputs": [
    {
     "data": {
      "text/plain": [
       "[['EventId', 'TimeStamp', 'Customer', 'State', 'ServiceId', 'Amount'],\n",
       " ['201', '10/13/2017', '100', 'NY', '131', '100.00'],\n",
       " ['204', '10/18/2017', '700', 'TX', '129', '450.00'],\n",
       " ['202', '10/15/2017', '203', 'CA', '121', '200.00'],\n",
       " ['206', '10/19/2017', '202', 'CA', '131', '500.00'],\n",
       " ['203', '10/17/2017', '101', 'NY', '173', '750.00'],\n",
       " ['205', '10/19/2017', '202', 'TX', '121', '200.00']]"
      ]
     },
     "execution_count": 45,
     "metadata": {},
     "output_type": "execute_result"
    }
   ],
   "source": [
    "clean.collect()"
   ]
  },
  {
   "cell_type": "code",
   "execution_count": 46,
   "id": "d236885c",
   "metadata": {},
   "outputs": [
    {
     "data": {
      "text/plain": [
       "[['EventId', 'TimeStamp', 'Customer', 'State', 'ServiceId', 'Amount'],\n",
       " ['201', '10/13/2017', '100', 'NY', '131', '100.00'],\n",
       " ['204', '10/18/2017', '700', 'TX', '129', '450.00']]"
      ]
     },
     "execution_count": 46,
     "metadata": {},
     "output_type": "execute_result"
    }
   ],
   "source": [
    "clean.sample(False,0.4).collect()"
   ]
  },
  {
   "cell_type": "code",
   "execution_count": 47,
   "id": "5fcc407d",
   "metadata": {},
   "outputs": [
    {
     "data": {
      "text/plain": [
       "[['202', '10/15/2017', '203', 'CA', '121', '200.00'],\n",
       " ['205', '10/19/2017', '202', 'TX', '121', '200.00']]"
      ]
     },
     "execution_count": 47,
     "metadata": {},
     "output_type": "execute_result"
    }
   ],
   "source": [
    "clean.sample(False,0.4).collect()"
   ]
  },
  {
   "cell_type": "code",
   "execution_count": 48,
   "id": "4790c1a3",
   "metadata": {},
   "outputs": [
    {
     "data": {
      "text/plain": [
       "[['204', '10/18/2017', '700', 'TX', '129', '450.00'],\n",
       " ['205', '10/19/2017', '202', 'TX', '121', '200.00']]"
      ]
     },
     "execution_count": 48,
     "metadata": {},
     "output_type": "execute_result"
    }
   ],
   "source": [
    "# Seed value return same set of valeus\n",
    "\n",
    "clean.sample(False,0.4,1).collect()"
   ]
  },
  {
   "cell_type": "code",
   "execution_count": 49,
   "id": "7faca206",
   "metadata": {},
   "outputs": [
    {
     "data": {
      "text/plain": [
       "[['204', '10/18/2017', '700', 'TX', '129', '450.00'],\n",
       " ['205', '10/19/2017', '202', 'TX', '121', '200.00']]"
      ]
     },
     "execution_count": 49,
     "metadata": {},
     "output_type": "execute_result"
    }
   ],
   "source": [
    "clean.sample(False,0.4,1).collect()"
   ]
  },
  {
   "cell_type": "code",
   "execution_count": null,
   "id": "d9f85922",
   "metadata": {},
   "outputs": [],
   "source": []
  },
  {
   "cell_type": "markdown",
   "id": "bbee73f2",
   "metadata": {},
   "source": [
    "#### DataFrame Operations"
   ]
  },
  {
   "cell_type": "code",
   "execution_count": 50,
   "id": "f641a7e0",
   "metadata": {},
   "outputs": [],
   "source": [
    "# conf=SparkConf().setAppName('sparkApp').setMaster('local')\n",
    "# sc=SparkContext(conf=conf)\n",
    "# spark=SparkSession(sc)"
   ]
  },
  {
   "cell_type": "code",
   "execution_count": 51,
   "id": "530f2580",
   "metadata": {},
   "outputs": [],
   "source": [
    "spark=SparkSession.builder.appName('DataFrame').getOrCreate()"
   ]
  },
  {
   "cell_type": "code",
   "execution_count": 52,
   "id": "679b6b5a",
   "metadata": {},
   "outputs": [
    {
     "data": {
      "text/plain": [
       "[Row(company='google', job='sales executive', degree='bachelors', salary_more_then_100k=0),\n",
       " Row(company='google', job='sales executive', degree='masters', salary_more_then_100k=0),\n",
       " Row(company='google', job='business manager', degree='bachelors', salary_more_then_100k=1),\n",
       " Row(company='google', job='business manager', degree='masters', salary_more_then_100k=1),\n",
       " Row(company='google', job='computer programmer', degree='bachelors', salary_more_then_100k=0),\n",
       " Row(company='google', job='computer programmer', degree='masters', salary_more_then_100k=1),\n",
       " Row(company='abc pharma', job='sales executive', degree='masters', salary_more_then_100k=0),\n",
       " Row(company='abc pharma', job='computer programmer', degree='bachelors', salary_more_then_100k=0),\n",
       " Row(company='abc pharma', job='business manager', degree='bachelors', salary_more_then_100k=0),\n",
       " Row(company='abc pharma', job='business manager', degree='masters', salary_more_then_100k=1),\n",
       " Row(company='facebook', job='sales executive', degree='bachelors', salary_more_then_100k=1),\n",
       " Row(company='facebook', job='sales executive', degree='masters', salary_more_then_100k=1),\n",
       " Row(company='facebook', job='business manager', degree='bachelors', salary_more_then_100k=1),\n",
       " Row(company='facebook', job='business manager', degree='masters', salary_more_then_100k=1),\n",
       " Row(company='facebook', job='computer programmer', degree='bachelors', salary_more_then_100k=1),\n",
       " Row(company='facebook', job='computer programmer', degree='masters', salary_more_then_100k=1)]"
      ]
     },
     "execution_count": 52,
     "metadata": {},
     "output_type": "execute_result"
    }
   ],
   "source": [
    "df=spark.read.csv('salaries.csv',header=True,inferSchema=True)\n",
    "df.collect()"
   ]
  },
  {
   "cell_type": "code",
   "execution_count": 53,
   "id": "cfcbf72c",
   "metadata": {},
   "outputs": [
    {
     "name": "stdout",
     "output_type": "stream",
     "text": [
      "+----------+-------------------+---------+---------------------+\n",
      "|   company|                job|   degree|salary_more_then_100k|\n",
      "+----------+-------------------+---------+---------------------+\n",
      "|    google|    sales executive|bachelors|                    0|\n",
      "|    google|    sales executive|  masters|                    0|\n",
      "|    google|   business manager|bachelors|                    1|\n",
      "|    google|   business manager|  masters|                    1|\n",
      "|    google|computer programmer|bachelors|                    0|\n",
      "|    google|computer programmer|  masters|                    1|\n",
      "|abc pharma|    sales executive|  masters|                    0|\n",
      "|abc pharma|computer programmer|bachelors|                    0|\n",
      "|abc pharma|   business manager|bachelors|                    0|\n",
      "|abc pharma|   business manager|  masters|                    1|\n",
      "|  facebook|    sales executive|bachelors|                    1|\n",
      "|  facebook|    sales executive|  masters|                    1|\n",
      "|  facebook|   business manager|bachelors|                    1|\n",
      "|  facebook|   business manager|  masters|                    1|\n",
      "|  facebook|computer programmer|bachelors|                    1|\n",
      "|  facebook|computer programmer|  masters|                    1|\n",
      "+----------+-------------------+---------+---------------------+\n",
      "\n"
     ]
    }
   ],
   "source": [
    "df.show()"
   ]
  },
  {
   "cell_type": "code",
   "execution_count": 54,
   "id": "7fd7dff3",
   "metadata": {},
   "outputs": [
    {
     "data": {
      "text/plain": [
       "['company', 'job', 'degree', 'salary_more_then_100k']"
      ]
     },
     "execution_count": 54,
     "metadata": {},
     "output_type": "execute_result"
    }
   ],
   "source": [
    "# columns\n",
    "\n",
    "df.columns"
   ]
  },
  {
   "cell_type": "code",
   "execution_count": 55,
   "id": "85e3909d",
   "metadata": {},
   "outputs": [
    {
     "data": {
      "text/html": [
       "<div>\n",
       "<style scoped>\n",
       "    .dataframe tbody tr th:only-of-type {\n",
       "        vertical-align: middle;\n",
       "    }\n",
       "\n",
       "    .dataframe tbody tr th {\n",
       "        vertical-align: top;\n",
       "    }\n",
       "\n",
       "    .dataframe thead th {\n",
       "        text-align: right;\n",
       "    }\n",
       "</style>\n",
       "<table border=\"1\" class=\"dataframe\">\n",
       "  <thead>\n",
       "    <tr style=\"text-align: right;\">\n",
       "      <th></th>\n",
       "      <th>company</th>\n",
       "      <th>job</th>\n",
       "      <th>degree</th>\n",
       "      <th>salary_more_then_100k</th>\n",
       "    </tr>\n",
       "  </thead>\n",
       "  <tbody>\n",
       "    <tr>\n",
       "      <th>0</th>\n",
       "      <td>google</td>\n",
       "      <td>sales executive</td>\n",
       "      <td>masters</td>\n",
       "      <td>0</td>\n",
       "    </tr>\n",
       "    <tr>\n",
       "      <th>1</th>\n",
       "      <td>google</td>\n",
       "      <td>business manager</td>\n",
       "      <td>masters</td>\n",
       "      <td>1</td>\n",
       "    </tr>\n",
       "    <tr>\n",
       "      <th>2</th>\n",
       "      <td>google</td>\n",
       "      <td>computer programmer</td>\n",
       "      <td>masters</td>\n",
       "      <td>1</td>\n",
       "    </tr>\n",
       "    <tr>\n",
       "      <th>3</th>\n",
       "      <td>abc pharma</td>\n",
       "      <td>sales executive</td>\n",
       "      <td>masters</td>\n",
       "      <td>0</td>\n",
       "    </tr>\n",
       "    <tr>\n",
       "      <th>4</th>\n",
       "      <td>abc pharma</td>\n",
       "      <td>business manager</td>\n",
       "      <td>masters</td>\n",
       "      <td>1</td>\n",
       "    </tr>\n",
       "    <tr>\n",
       "      <th>5</th>\n",
       "      <td>facebook</td>\n",
       "      <td>sales executive</td>\n",
       "      <td>masters</td>\n",
       "      <td>1</td>\n",
       "    </tr>\n",
       "    <tr>\n",
       "      <th>6</th>\n",
       "      <td>facebook</td>\n",
       "      <td>business manager</td>\n",
       "      <td>masters</td>\n",
       "      <td>1</td>\n",
       "    </tr>\n",
       "    <tr>\n",
       "      <th>7</th>\n",
       "      <td>facebook</td>\n",
       "      <td>computer programmer</td>\n",
       "      <td>masters</td>\n",
       "      <td>1</td>\n",
       "    </tr>\n",
       "    <tr>\n",
       "      <th>8</th>\n",
       "      <td>google</td>\n",
       "      <td>sales executive</td>\n",
       "      <td>bachelors</td>\n",
       "      <td>0</td>\n",
       "    </tr>\n",
       "    <tr>\n",
       "      <th>9</th>\n",
       "      <td>google</td>\n",
       "      <td>business manager</td>\n",
       "      <td>bachelors</td>\n",
       "      <td>1</td>\n",
       "    </tr>\n",
       "    <tr>\n",
       "      <th>10</th>\n",
       "      <td>google</td>\n",
       "      <td>computer programmer</td>\n",
       "      <td>bachelors</td>\n",
       "      <td>0</td>\n",
       "    </tr>\n",
       "    <tr>\n",
       "      <th>11</th>\n",
       "      <td>abc pharma</td>\n",
       "      <td>computer programmer</td>\n",
       "      <td>bachelors</td>\n",
       "      <td>0</td>\n",
       "    </tr>\n",
       "    <tr>\n",
       "      <th>12</th>\n",
       "      <td>abc pharma</td>\n",
       "      <td>business manager</td>\n",
       "      <td>bachelors</td>\n",
       "      <td>0</td>\n",
       "    </tr>\n",
       "    <tr>\n",
       "      <th>13</th>\n",
       "      <td>facebook</td>\n",
       "      <td>sales executive</td>\n",
       "      <td>bachelors</td>\n",
       "      <td>1</td>\n",
       "    </tr>\n",
       "    <tr>\n",
       "      <th>14</th>\n",
       "      <td>facebook</td>\n",
       "      <td>business manager</td>\n",
       "      <td>bachelors</td>\n",
       "      <td>1</td>\n",
       "    </tr>\n",
       "    <tr>\n",
       "      <th>15</th>\n",
       "      <td>facebook</td>\n",
       "      <td>computer programmer</td>\n",
       "      <td>bachelors</td>\n",
       "      <td>1</td>\n",
       "    </tr>\n",
       "  </tbody>\n",
       "</table>\n",
       "</div>"
      ],
      "text/plain": [
       "       company                  job     degree  salary_more_then_100k\n",
       "0       google      sales executive    masters                      0\n",
       "1       google     business manager    masters                      1\n",
       "2       google  computer programmer    masters                      1\n",
       "3   abc pharma      sales executive    masters                      0\n",
       "4   abc pharma     business manager    masters                      1\n",
       "5     facebook      sales executive    masters                      1\n",
       "6     facebook     business manager    masters                      1\n",
       "7     facebook  computer programmer    masters                      1\n",
       "8       google      sales executive  bachelors                      0\n",
       "9       google     business manager  bachelors                      1\n",
       "10      google  computer programmer  bachelors                      0\n",
       "11  abc pharma  computer programmer  bachelors                      0\n",
       "12  abc pharma     business manager  bachelors                      0\n",
       "13    facebook      sales executive  bachelors                      1\n",
       "14    facebook     business manager  bachelors                      1\n",
       "15    facebook  computer programmer  bachelors                      1"
      ]
     },
     "execution_count": 55,
     "metadata": {},
     "output_type": "execute_result"
    }
   ],
   "source": [
    "# ordering\n",
    "\n",
    "df.orderBy('degree',ascending=False).toPandas()"
   ]
  },
  {
   "cell_type": "code",
   "execution_count": null,
   "id": "26ed9a59",
   "metadata": {},
   "outputs": [],
   "source": []
  },
  {
   "cell_type": "code",
   "execution_count": 56,
   "id": "419a09fa",
   "metadata": {},
   "outputs": [
    {
     "name": "stdout",
     "output_type": "stream",
     "text": [
      "+----+--------+---+------+\n",
      "|area|bedrooms|age| price|\n",
      "+----+--------+---+------+\n",
      "|2600|       3| 20|550000|\n",
      "|3000|       4| 15|565000|\n",
      "|3200|    null| 18|610000|\n",
      "|3600|       3| 30|595000|\n",
      "|4000|       5|  8|760000|\n",
      "|4100|       6|  8|810000|\n",
      "+----+--------+---+------+\n",
      "\n"
     ]
    }
   ],
   "source": [
    "dff=spark.read.csv('homeprices.csv',header=True,inferSchema=True)\n",
    "dff.show()"
   ]
  },
  {
   "cell_type": "code",
   "execution_count": 57,
   "id": "7227fa37",
   "metadata": {},
   "outputs": [
    {
     "data": {
      "text/plain": [
       "pyspark.sql.dataframe.DataFrame"
      ]
     },
     "execution_count": 57,
     "metadata": {},
     "output_type": "execute_result"
    }
   ],
   "source": [
    "type(dff)"
   ]
  },
  {
   "cell_type": "code",
   "execution_count": null,
   "id": "153e788a",
   "metadata": {},
   "outputs": [],
   "source": []
  },
  {
   "cell_type": "code",
   "execution_count": null,
   "id": "815ed5dc",
   "metadata": {},
   "outputs": [],
   "source": []
  },
  {
   "cell_type": "markdown",
   "id": "8c538268",
   "metadata": {},
   "source": [
    "#### Creating DataFrame using pyspark.sql.Row()"
   ]
  },
  {
   "cell_type": "code",
   "execution_count": 58,
   "id": "c7acaa17",
   "metadata": {},
   "outputs": [],
   "source": [
    "# Creating Rows"
   ]
  },
  {
   "cell_type": "code",
   "execution_count": 59,
   "id": "da69e0c1",
   "metadata": {},
   "outputs": [],
   "source": [
    "from pyspark.sql import Row,DataFrame"
   ]
  },
  {
   "cell_type": "code",
   "execution_count": 60,
   "id": "7362f5a4",
   "metadata": {},
   "outputs": [],
   "source": [
    "Employee=Row('firstName','lasetName','email','salary')"
   ]
  },
  {
   "cell_type": "code",
   "execution_count": 61,
   "id": "1a3e7e7b",
   "metadata": {},
   "outputs": [],
   "source": [
    "employee1=Employee('Aswin','M','m7aswin@gmail.com',10000)\n",
    "employee2=Employee('Raghav','Naik','raghav@gmail.com',40000)\n",
    "employee3=Employee('Sanal','Kumar','sanal@gmail.com',35000)\n",
    "employee4=Employee('Binu','Jayaraj','binu@gmail.com',60000)\n",
    "employee5=Employee('Jose','Baby','baby@gmail.com',60000)"
   ]
  },
  {
   "cell_type": "code",
   "execution_count": 62,
   "id": "85a62b25",
   "metadata": {},
   "outputs": [],
   "source": [
    "department1=Row(id='1234',name='HR')\n",
    "department2=Row(id='2314',name='DEV')\n",
    "department3=Row(id='3412',name='FN')\n",
    "department4=Row(id='4123',name='OPS')"
   ]
  },
  {
   "cell_type": "code",
   "execution_count": 63,
   "id": "9aa2e73c",
   "metadata": {},
   "outputs": [
    {
     "data": {
      "text/plain": [
       "Row(firstName='Raghav', lasetName='Naik', email='raghav@gmail.com', salary=40000)"
      ]
     },
     "execution_count": 63,
     "metadata": {},
     "output_type": "execute_result"
    }
   ],
   "source": [
    "employee2"
   ]
  },
  {
   "cell_type": "code",
   "execution_count": 64,
   "id": "70c1aa9d",
   "metadata": {},
   "outputs": [
    {
     "data": {
      "text/plain": [
       "Row(id='2314', name='DEV')"
      ]
     },
     "execution_count": 64,
     "metadata": {},
     "output_type": "execute_result"
    }
   ],
   "source": [
    "department2"
   ]
  },
  {
   "cell_type": "code",
   "execution_count": 65,
   "id": "544d8154",
   "metadata": {},
   "outputs": [],
   "source": [
    "# Creating DataFrame with Rows"
   ]
  },
  {
   "cell_type": "code",
   "execution_count": 66,
   "id": "0d582755",
   "metadata": {},
   "outputs": [],
   "source": [
    "departmentwithEmployee1=Row(department=department1,employee=[employee3])\n",
    "departmentwithEmployee2=Row(department=department2,employee=[employee2,employee1])\n",
    "departmentwithEmployee3=Row(department=department4,employee=[employee4,employee5])"
   ]
  },
  {
   "cell_type": "code",
   "execution_count": 67,
   "id": "585b7d7f",
   "metadata": {},
   "outputs": [
    {
     "data": {
      "text/plain": [
       "Row(department=Row(id='2314', name='DEV'), employee=[Row(firstName='Raghav', lasetName='Naik', email='raghav@gmail.com', salary=40000), Row(firstName='Aswin', lasetName='M', email='m7aswin@gmail.com', salary=10000)])"
      ]
     },
     "execution_count": 67,
     "metadata": {},
     "output_type": "execute_result"
    }
   ],
   "source": [
    "departmentwithEmployee2"
   ]
  },
  {
   "cell_type": "code",
   "execution_count": 68,
   "id": "44b27e05",
   "metadata": {},
   "outputs": [
    {
     "data": {
      "text/plain": [
       "Row(department=Row(id='1234', name='HR'), employee=[Row(firstName='Sanal', lasetName='Kumar', email='sanal@gmail.com', salary=35000)])"
      ]
     },
     "execution_count": 68,
     "metadata": {},
     "output_type": "execute_result"
    }
   ],
   "source": [
    "departmentwithEmployee1"
   ]
  },
  {
   "cell_type": "code",
   "execution_count": 69,
   "id": "3467c64b",
   "metadata": {},
   "outputs": [],
   "source": [
    "departmentEmp_Seq=[departmentwithEmployee1,departmentwithEmployee2]\n",
    "dframe=spark.createDataFrame(departmentEmp_Seq)"
   ]
  },
  {
   "cell_type": "code",
   "execution_count": 70,
   "id": "cb548b44",
   "metadata": {},
   "outputs": [
    {
     "data": {
      "text/plain": [
       "DataFrame[department: struct<id:string,name:string>, employee: array<struct<firstName:string,lasetName:string,email:string,salary:bigint>>]"
      ]
     },
     "metadata": {},
     "output_type": "display_data"
    }
   ],
   "source": [
    "display(dframe)"
   ]
  },
  {
   "cell_type": "code",
   "execution_count": 71,
   "id": "8b78eeca",
   "metadata": {},
   "outputs": [
    {
     "data": {
      "text/plain": [
       "pyspark.sql.dataframe.DataFrame"
      ]
     },
     "execution_count": 71,
     "metadata": {},
     "output_type": "execute_result"
    }
   ],
   "source": [
    "type(dframe)"
   ]
  },
  {
   "cell_type": "code",
   "execution_count": 72,
   "id": "c753a675",
   "metadata": {},
   "outputs": [
    {
     "name": "stdout",
     "output_type": "stream",
     "text": [
      "+-----------+--------------------+\n",
      "| department|            employee|\n",
      "+-----------+--------------------+\n",
      "| {1234, HR}|[{Sanal, Kumar, s...|\n",
      "|{2314, DEV}|[{Raghav, Naik, r...|\n",
      "+-----------+--------------------+\n",
      "\n"
     ]
    }
   ],
   "source": [
    "dframe.show()"
   ]
  },
  {
   "cell_type": "code",
   "execution_count": null,
   "id": "bf7e25e4",
   "metadata": {},
   "outputs": [],
   "source": []
  }
 ],
 "metadata": {
  "kernelspec": {
   "display_name": "Python 3",
   "language": "python",
   "name": "python3"
  },
  "language_info": {
   "codemirror_mode": {
    "name": "ipython",
    "version": 3
   },
   "file_extension": ".py",
   "mimetype": "text/x-python",
   "name": "python",
   "nbconvert_exporter": "python",
   "pygments_lexer": "ipython3",
   "version": "3.8.10"
  }
 },
 "nbformat": 4,
 "nbformat_minor": 5
}
