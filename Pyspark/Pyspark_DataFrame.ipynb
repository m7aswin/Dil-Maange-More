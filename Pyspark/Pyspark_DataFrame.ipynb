{
 "cells": [
  {
   "cell_type": "code",
   "execution_count": 1,
   "id": "bda5a575",
   "metadata": {},
   "outputs": [],
   "source": [
    "from pyspark.sql import SparkSession\n",
    "from pyspark import SparkConf,SparkContext"
   ]
  },
  {
   "cell_type": "code",
   "execution_count": 2,
   "id": "d7dc78a0",
   "metadata": {},
   "outputs": [],
   "source": [
    "spark=SparkSession.builder.appName('DataFrame').getOrCreate()"
   ]
  },
  {
   "cell_type": "code",
   "execution_count": 3,
   "id": "b96a9a7b",
   "metadata": {},
   "outputs": [
    {
     "data": {
      "text/html": [
       "\n",
       "            <div>\n",
       "                <p><b>SparkSession - in-memory</b></p>\n",
       "                \n",
       "        <div>\n",
       "            <p><b>SparkContext</b></p>\n",
       "\n",
       "            <p><a href=\"http://DESKTOP-NMFHPTH:4041\">Spark UI</a></p>\n",
       "\n",
       "            <dl>\n",
       "              <dt>Version</dt>\n",
       "                <dd><code>v3.1.2</code></dd>\n",
       "              <dt>Master</dt>\n",
       "                <dd><code>local[*]</code></dd>\n",
       "              <dt>AppName</dt>\n",
       "                <dd><code>DataFrame</code></dd>\n",
       "            </dl>\n",
       "        </div>\n",
       "        \n",
       "            </div>\n",
       "        "
      ],
      "text/plain": [
       "<pyspark.sql.session.SparkSession at 0x2097d98daf0>"
      ]
     },
     "execution_count": 3,
     "metadata": {},
     "output_type": "execute_result"
    }
   ],
   "source": [
    "spark"
   ]
  },
  {
   "cell_type": "code",
   "execution_count": 4,
   "id": "90a06c1b",
   "metadata": {},
   "outputs": [
    {
     "name": "stdout",
     "output_type": "stream",
     "text": [
      "+----+--------+---+------+\n",
      "|area|bedrooms|age| price|\n",
      "+----+--------+---+------+\n",
      "|2600|       3| 20|550000|\n",
      "|3000|       4| 15|565000|\n",
      "|3200|    null| 18|610000|\n",
      "|3600|       3| 30|595000|\n",
      "|4000|       5|  8|760000|\n",
      "|4100|       6|  8|810000|\n",
      "+----+--------+---+------+\n",
      "\n"
     ]
    }
   ],
   "source": [
    "# Read the dataset\n",
    "\n",
    "df=spark.read.csv('homeprices.csv',header=True,inferSchema=True)\n",
    "df.show()"
   ]
  },
  {
   "cell_type": "code",
   "execution_count": 5,
   "id": "4fb61381",
   "metadata": {},
   "outputs": [
    {
     "name": "stdout",
     "output_type": "stream",
     "text": [
      "root\n",
      " |-- area: integer (nullable = true)\n",
      " |-- bedrooms: integer (nullable = true)\n",
      " |-- age: integer (nullable = true)\n",
      " |-- price: integer (nullable = true)\n",
      "\n"
     ]
    }
   ],
   "source": [
    "# Prints out the schema in the tree format.\n",
    "\n",
    "df.printSchema()"
   ]
  },
  {
   "cell_type": "code",
   "execution_count": 6,
   "id": "dccc719a",
   "metadata": {},
   "outputs": [
    {
     "data": {
      "text/plain": [
       "['area', 'bedrooms', 'age', 'price']"
      ]
     },
     "execution_count": 6,
     "metadata": {},
     "output_type": "execute_result"
    }
   ],
   "source": [
    "# Columns in DF\n",
    "\n",
    "df.columns"
   ]
  },
  {
   "cell_type": "code",
   "execution_count": 7,
   "id": "326c78f7",
   "metadata": {},
   "outputs": [
    {
     "data": {
      "text/plain": [
       "[Row(area=2600, bedrooms=3, age=20, price=550000),\n",
       " Row(area=3000, bedrooms=4, age=15, price=565000),\n",
       " Row(area=3200, bedrooms=None, age=18, price=610000)]"
      ]
     },
     "execution_count": 7,
     "metadata": {},
     "output_type": "execute_result"
    }
   ],
   "source": [
    "# head(3)\n",
    "\n",
    "df.head(3)"
   ]
  },
  {
   "cell_type": "code",
   "execution_count": 8,
   "id": "fa1c7f0b",
   "metadata": {},
   "outputs": [
    {
     "name": "stdout",
     "output_type": "stream",
     "text": [
      "DataFrame[area: int]\n",
      "+----+\n",
      "|area|\n",
      "+----+\n",
      "|2600|\n",
      "|3000|\n",
      "|3200|\n",
      "|3600|\n",
      "|4000|\n",
      "|4100|\n",
      "+----+\n",
      "\n",
      "None\n"
     ]
    }
   ],
   "source": [
    "# Selecting columns\n",
    "\n",
    "print(df.select('area'))\n",
    "print(df.select('area').show())"
   ]
  },
  {
   "cell_type": "code",
   "execution_count": 9,
   "id": "47243c9b",
   "metadata": {},
   "outputs": [
    {
     "data": {
      "text/plain": [
       "pyspark.sql.dataframe.DataFrame"
      ]
     },
     "execution_count": 9,
     "metadata": {},
     "output_type": "execute_result"
    }
   ],
   "source": [
    "type(df.select('area'))"
   ]
  },
  {
   "cell_type": "code",
   "execution_count": 10,
   "id": "b01b1955",
   "metadata": {},
   "outputs": [
    {
     "name": "stdout",
     "output_type": "stream",
     "text": [
      "+----+---+\n",
      "|area|age|\n",
      "+----+---+\n",
      "|2600| 20|\n",
      "|3000| 15|\n",
      "|3200| 18|\n",
      "|3600| 30|\n",
      "|4000|  8|\n",
      "|4100|  8|\n",
      "+----+---+\n",
      "\n"
     ]
    }
   ],
   "source": [
    "df.select(['area','age']).show()"
   ]
  },
  {
   "cell_type": "code",
   "execution_count": 11,
   "id": "fbb746fb",
   "metadata": {},
   "outputs": [
    {
     "data": {
      "text/plain": [
       "[('area', 'int'), ('bedrooms', 'int'), ('age', 'int'), ('price', 'int')]"
      ]
     },
     "execution_count": 11,
     "metadata": {},
     "output_type": "execute_result"
    }
   ],
   "source": [
    "# Checking data types\n",
    "\n",
    "df.dtypes"
   ]
  },
  {
   "cell_type": "code",
   "execution_count": 12,
   "id": "7d1e4ea9",
   "metadata": {},
   "outputs": [
    {
     "name": "stdout",
     "output_type": "stream",
     "text": [
      "+-------+------------------+------------------+----------------+------------------+\n",
      "|summary|              area|          bedrooms|             age|             price|\n",
      "+-------+------------------+------------------+----------------+------------------+\n",
      "|  count|                 6|                 5|               6|                 6|\n",
      "|   mean|3416.6666666666665|               4.2|            16.5| 648333.3333333334|\n",
      "| stddev| 587.9342366852493|1.3038404810405297|8.28854631404084|109117.67348448493|\n",
      "|    min|              2600|                 3|               8|            550000|\n",
      "|    max|              4100|                 6|              30|            810000|\n",
      "+-------+------------------+------------------+----------------+------------------+\n",
      "\n"
     ]
    }
   ],
   "source": [
    "# description\n",
    "\n",
    "df.describe().show()"
   ]
  },
  {
   "cell_type": "code",
   "execution_count": 13,
   "id": "23a77289",
   "metadata": {},
   "outputs": [
    {
     "name": "stdout",
     "output_type": "stream",
     "text": [
      "+----+--------+---+------+----------+\n",
      "|area|bedrooms|age| price|ageInMonth|\n",
      "+----+--------+---+------+----------+\n",
      "|2600|       3| 20|550000|       240|\n",
      "|3000|       4| 15|565000|       180|\n",
      "|3200|    null| 18|610000|       216|\n",
      "|3600|       3| 30|595000|       360|\n",
      "|4000|       5|  8|760000|        96|\n",
      "|4100|       6|  8|810000|        96|\n",
      "+----+--------+---+------+----------+\n",
      "\n"
     ]
    }
   ],
   "source": [
    "# Adding columns\n",
    "\n",
    "df.withColumn('ageInMonth',df['age']*12).show()  # need to assign to get changed values"
   ]
  },
  {
   "cell_type": "code",
   "execution_count": 14,
   "id": "bda13799",
   "metadata": {},
   "outputs": [
    {
     "name": "stdout",
     "output_type": "stream",
     "text": [
      "+----+--------+------+\n",
      "|area|bedrooms| price|\n",
      "+----+--------+------+\n",
      "|2600|       3|550000|\n",
      "|3000|       4|565000|\n",
      "|3200|    null|610000|\n",
      "|3600|       3|595000|\n",
      "|4000|       5|760000|\n",
      "|4100|       6|810000|\n",
      "+----+--------+------+\n",
      "\n"
     ]
    }
   ],
   "source": [
    "# Drop columns\n",
    "\n",
    "df.drop('age').show()   # not an inplace operation"
   ]
  },
  {
   "cell_type": "code",
   "execution_count": 15,
   "id": "d91b7108",
   "metadata": {},
   "outputs": [
    {
     "name": "stdout",
     "output_type": "stream",
     "text": [
      "+---------+--------+---+------+\n",
      "|totalArea|bedrooms|age| price|\n",
      "+---------+--------+---+------+\n",
      "|     2600|       3| 20|550000|\n",
      "|     3000|       4| 15|565000|\n",
      "|     3200|    null| 18|610000|\n",
      "|     3600|       3| 30|595000|\n",
      "|     4000|       5|  8|760000|\n",
      "|     4100|       6|  8|810000|\n",
      "+---------+--------+---+------+\n",
      "\n"
     ]
    }
   ],
   "source": [
    "# Rename column\n",
    "\n",
    "df.withColumnRenamed('area','totalArea').show()"
   ]
  },
  {
   "cell_type": "code",
   "execution_count": 16,
   "id": "4177c309",
   "metadata": {},
   "outputs": [
    {
     "name": "stdout",
     "output_type": "stream",
     "text": [
      "+----+--------+---+------+\n",
      "|area|bedrooms|age| price|\n",
      "+----+--------+---+------+\n",
      "|2600|       3| 20|550000|\n",
      "|3600|       3| 30|595000|\n",
      "+----+--------+---+------+\n",
      "\n"
     ]
    }
   ],
   "source": [
    "# filtering \n",
    "\n",
    "df.filter(df.bedrooms==3).show()"
   ]
  },
  {
   "cell_type": "code",
   "execution_count": 17,
   "id": "1f6bc34e",
   "metadata": {},
   "outputs": [
    {
     "name": "stdout",
     "output_type": "stream",
     "text": [
      "+----+--------+---+------+\n",
      "|area|bedrooms|age| price|\n",
      "+----+--------+---+------+\n",
      "|2600|       3| 20|550000|\n",
      "|3600|       3| 30|595000|\n",
      "+----+--------+---+------+\n",
      "\n"
     ]
    }
   ],
   "source": [
    "# Can also use where for filtering\n",
    "\n",
    "df.where(df.bedrooms==3).show()"
   ]
  },
  {
   "cell_type": "code",
   "execution_count": 18,
   "id": "bd3153a7",
   "metadata": {},
   "outputs": [
    {
     "name": "stdout",
     "output_type": "stream",
     "text": [
      "+----+--------+---+------+\n",
      "|area|bedrooms|age| price|\n",
      "+----+--------+---+------+\n",
      "|2600|       3| 20|550000|\n",
      "|3600|       3| 30|595000|\n",
      "|4000|       5|  8|760000|\n",
      "|4100|       6|  8|810000|\n",
      "+----+--------+---+------+\n",
      "\n"
     ]
    }
   ],
   "source": [
    "# multiple conditions\n",
    "\n",
    "df.where((df.bedrooms==3)|(df.age==8)).show()"
   ]
  },
  {
   "cell_type": "code",
   "execution_count": 19,
   "id": "50a75f22",
   "metadata": {},
   "outputs": [],
   "source": [
    "# Converting DataFrame to SQL table\n",
    "\n",
    "df.registerTempTable('df_sql')"
   ]
  },
  {
   "cell_type": "code",
   "execution_count": 20,
   "id": "1e912f54",
   "metadata": {},
   "outputs": [
    {
     "name": "stdout",
     "output_type": "stream",
     "text": [
      "+----+--------+---+------+\n",
      "|area|bedrooms|age| price|\n",
      "+----+--------+---+------+\n",
      "|2600|       3| 20|550000|\n",
      "|3000|       4| 15|565000|\n",
      "|3200|    null| 18|610000|\n",
      "|3600|       3| 30|595000|\n",
      "|4000|       5|  8|760000|\n",
      "|4100|       6|  8|810000|\n",
      "+----+--------+---+------+\n",
      "\n"
     ]
    }
   ],
   "source": [
    "# Querying SQL table\n",
    "\n",
    "from pyspark.sql import SQLContext\n",
    "\n",
    "sqlContext=SQLContext(spark)\n",
    "sqlContext.sql('select * from df_sql').show()"
   ]
  },
  {
   "cell_type": "code",
   "execution_count": 21,
   "id": "a5b903f7",
   "metadata": {},
   "outputs": [
    {
     "name": "stdout",
     "output_type": "stream",
     "text": [
      "+---------+\n",
      "|min(area)|\n",
      "+---------+\n",
      "|     2600|\n",
      "+---------+\n",
      "\n"
     ]
    }
   ],
   "source": [
    "# Selecting row having min value in area\n",
    "\n",
    "sqlContext.sql('select min(area) from df_sql').show()"
   ]
  },
  {
   "cell_type": "code",
   "execution_count": 22,
   "id": "73be2bbe",
   "metadata": {},
   "outputs": [
    {
     "name": "stdout",
     "output_type": "stream",
     "text": [
      "+----+--------+---+------+\n",
      "|area|bedrooms|age| price|\n",
      "+----+--------+---+------+\n",
      "|2600|       3| 20|550000|\n",
      "|3600|       3| 30|595000|\n",
      "+----+--------+---+------+\n",
      "\n"
     ]
    }
   ],
   "source": [
    "# Nested querying\n",
    "\n",
    "sqlContext.sql('select * from df_sql where bedrooms in (select min(bedrooms) from df_sql)').show()"
   ]
  },
  {
   "cell_type": "code",
   "execution_count": 23,
   "id": "ff6b8402",
   "metadata": {},
   "outputs": [
    {
     "data": {
      "text/html": [
       "\n",
       "            <div>\n",
       "                <p><b>SparkSession - in-memory</b></p>\n",
       "                \n",
       "        <div>\n",
       "            <p><b>SparkContext</b></p>\n",
       "\n",
       "            <p><a href=\"http://DESKTOP-NMFHPTH:4041\">Spark UI</a></p>\n",
       "\n",
       "            <dl>\n",
       "              <dt>Version</dt>\n",
       "                <dd><code>v3.1.2</code></dd>\n",
       "              <dt>Master</dt>\n",
       "                <dd><code>local[*]</code></dd>\n",
       "              <dt>AppName</dt>\n",
       "                <dd><code>DataFrame</code></dd>\n",
       "            </dl>\n",
       "        </div>\n",
       "        \n",
       "            </div>\n",
       "        "
      ],
      "text/plain": [
       "<pyspark.sql.session.SparkSession at 0x2097d98daf0>"
      ]
     },
     "execution_count": 23,
     "metadata": {},
     "output_type": "execute_result"
    }
   ],
   "source": [
    "spark"
   ]
  },
  {
   "cell_type": "code",
   "execution_count": null,
   "id": "9947636d",
   "metadata": {},
   "outputs": [],
   "source": []
  },
  {
   "cell_type": "code",
   "execution_count": 28,
   "id": "ebb38b48",
   "metadata": {},
   "outputs": [
    {
     "data": {
      "text/plain": [
       "DataFrame[loansActiveCount: int, userId: string, loansSignedAndAcceptedCount: int, loansFullyRepaidCount: int, occupation: string, loansRequestedCount: int, monthlyIncome: string, familySize: string, incomePeriodicity: string, eaScore: double, address.city: string, age: double, repaymentDurationInDays: int, loanId: string, loanAmount: int, interestRatePerAnnumPercent: double, repaymentStatus: string, interestRatePerMonthPercent: double, collateralItemsTotalMarketPrice: double, interestAmount: int, CATPercent: int, refrenceInterestRate: int, repaymentInstallmentAmount: int, amountRepaid: int, repaymentNumberOfInstallments: int, amountNotRepaid: int, interestRatePercent: double, repaymentTotalAmount: int, totalInstallment: int, paidAfterDue: int, paidBeforeDue: int, dueDateNotpassed: int, notPaidAfterDueDate: int, score: int]"
      ]
     },
     "execution_count": 28,
     "metadata": {},
     "output_type": "execute_result"
    }
   ],
   "source": [
    "userloan=spark.read.csv('userDetails.csv',header=True,inferSchema=True)\n",
    "userloan"
   ]
  },
  {
   "cell_type": "code",
   "execution_count": 26,
   "id": "d155e8c9",
   "metadata": {},
   "outputs": [
    {
     "data": {
      "text/plain": [
       "pyspark.sql.dataframe.DataFrame"
      ]
     },
     "execution_count": 26,
     "metadata": {},
     "output_type": "execute_result"
    }
   ],
   "source": [
    "type(userloan)"
   ]
  },
  {
   "cell_type": "code",
   "execution_count": 27,
   "id": "e7ee6061",
   "metadata": {},
   "outputs": [
    {
     "ename": "TypeError",
     "evalue": "data is already a DataFrame",
     "output_type": "error",
     "traceback": [
      "\u001b[1;31m---------------------------------------------------------------------------\u001b[0m",
      "\u001b[1;31mTypeError\u001b[0m                                 Traceback (most recent call last)",
      "\u001b[1;32m<ipython-input-27-21587eb6028c>\u001b[0m in \u001b[0;36m<module>\u001b[1;34m\u001b[0m\n\u001b[1;32m----> 1\u001b[1;33m \u001b[0mspark\u001b[0m\u001b[1;33m.\u001b[0m\u001b[0mcreateDataFrame\u001b[0m\u001b[1;33m(\u001b[0m\u001b[0muserloan\u001b[0m\u001b[1;33m)\u001b[0m\u001b[1;33m\u001b[0m\u001b[1;33m\u001b[0m\u001b[0m\n\u001b[0m",
      "\u001b[1;32m~\\Anaconda3\\envs\\CoddleTech\\lib\\site-packages\\pyspark\\sql\\session.py\u001b[0m in \u001b[0;36mcreateDataFrame\u001b[1;34m(self, data, schema, samplingRatio, verifySchema)\u001b[0m\n\u001b[0;32m    656\u001b[0m         \u001b[0mself\u001b[0m\u001b[1;33m.\u001b[0m\u001b[0m_jvm\u001b[0m\u001b[1;33m.\u001b[0m\u001b[0mSparkSession\u001b[0m\u001b[1;33m.\u001b[0m\u001b[0msetActiveSession\u001b[0m\u001b[1;33m(\u001b[0m\u001b[0mself\u001b[0m\u001b[1;33m.\u001b[0m\u001b[0m_jsparkSession\u001b[0m\u001b[1;33m)\u001b[0m\u001b[1;33m\u001b[0m\u001b[1;33m\u001b[0m\u001b[0m\n\u001b[0;32m    657\u001b[0m         \u001b[1;32mif\u001b[0m \u001b[0misinstance\u001b[0m\u001b[1;33m(\u001b[0m\u001b[0mdata\u001b[0m\u001b[1;33m,\u001b[0m \u001b[0mDataFrame\u001b[0m\u001b[1;33m)\u001b[0m\u001b[1;33m:\u001b[0m\u001b[1;33m\u001b[0m\u001b[1;33m\u001b[0m\u001b[0m\n\u001b[1;32m--> 658\u001b[1;33m             \u001b[1;32mraise\u001b[0m \u001b[0mTypeError\u001b[0m\u001b[1;33m(\u001b[0m\u001b[1;34m\"data is already a DataFrame\"\u001b[0m\u001b[1;33m)\u001b[0m\u001b[1;33m\u001b[0m\u001b[1;33m\u001b[0m\u001b[0m\n\u001b[0m\u001b[0;32m    659\u001b[0m \u001b[1;33m\u001b[0m\u001b[0m\n\u001b[0;32m    660\u001b[0m         \u001b[1;32mif\u001b[0m \u001b[0misinstance\u001b[0m\u001b[1;33m(\u001b[0m\u001b[0mschema\u001b[0m\u001b[1;33m,\u001b[0m \u001b[0mstr\u001b[0m\u001b[1;33m)\u001b[0m\u001b[1;33m:\u001b[0m\u001b[1;33m\u001b[0m\u001b[1;33m\u001b[0m\u001b[0m\n",
      "\u001b[1;31mTypeError\u001b[0m: data is already a DataFrame"
     ]
    }
   ],
   "source": [
    "spark.createDataFrame(userloan)"
   ]
  },
  {
   "cell_type": "code",
   "execution_count": 29,
   "id": "8d2e3e43",
   "metadata": {},
   "outputs": [],
   "source": [
    "import plotly.express as px"
   ]
  },
  {
   "cell_type": "code",
   "execution_count": 35,
   "id": "5bd75482",
   "metadata": {},
   "outputs": [
    {
     "data": {
      "text/plain": [
       "False"
      ]
     },
     "execution_count": 35,
     "metadata": {},
     "output_type": "execute_result"
    }
   ],
   "source": [
    "userloan.isLocal()"
   ]
  },
  {
   "cell_type": "code",
   "execution_count": 39,
   "id": "001d7077",
   "metadata": {},
   "outputs": [],
   "source": [
    "loans=userloan.localCheckpoint()"
   ]
  },
  {
   "cell_type": "code",
   "execution_count": null,
   "id": "593d1147",
   "metadata": {},
   "outputs": [],
   "source": []
  },
  {
   "cell_type": "code",
   "execution_count": 33,
   "id": "aa5c971f",
   "metadata": {},
   "outputs": [
    {
     "ename": "ValueError",
     "evalue": "DataFrame constructor not properly called!",
     "output_type": "error",
     "traceback": [
      "\u001b[1;31m---------------------------------------------------------------------------\u001b[0m",
      "\u001b[1;31mValueError\u001b[0m                                Traceback (most recent call last)",
      "\u001b[1;32m<ipython-input-33-cebd78f7e66e>\u001b[0m in \u001b[0;36m<module>\u001b[1;34m\u001b[0m\n\u001b[1;32m----> 1\u001b[1;33m \u001b[0mpx\u001b[0m\u001b[1;33m.\u001b[0m\u001b[0mbar\u001b[0m\u001b[1;33m(\u001b[0m\u001b[0muserloan\u001b[0m\u001b[1;33m.\u001b[0m\u001b[0mpersist\u001b[0m\u001b[1;33m(\u001b[0m\u001b[1;33m)\u001b[0m\u001b[1;33m,\u001b[0m\u001b[0mx\u001b[0m\u001b[1;33m=\u001b[0m\u001b[0muserloan\u001b[0m\u001b[1;33m.\u001b[0m\u001b[0mselect\u001b[0m\u001b[1;33m(\u001b[0m\u001b[1;34m'occupation'\u001b[0m\u001b[1;33m)\u001b[0m\u001b[1;33m.\u001b[0m\u001b[0mpersist\u001b[0m\u001b[1;33m(\u001b[0m\u001b[1;33m)\u001b[0m\u001b[1;33m,\u001b[0m\u001b[0my\u001b[0m\u001b[1;33m=\u001b[0m\u001b[0muserloan\u001b[0m\u001b[1;33m.\u001b[0m\u001b[0mselect\u001b[0m\u001b[1;33m(\u001b[0m\u001b[1;34m'age'\u001b[0m\u001b[1;33m)\u001b[0m\u001b[1;33m.\u001b[0m\u001b[0mpersist\u001b[0m\u001b[1;33m(\u001b[0m\u001b[1;33m)\u001b[0m\u001b[1;33m)\u001b[0m\u001b[1;33m\u001b[0m\u001b[1;33m\u001b[0m\u001b[0m\n\u001b[0m",
      "\u001b[1;32m~\\Anaconda3\\envs\\CoddleTech\\lib\\site-packages\\plotly\\express\\_chart_types.py\u001b[0m in \u001b[0;36mbar\u001b[1;34m(data_frame, x, y, color, facet_row, facet_col, facet_col_wrap, facet_row_spacing, facet_col_spacing, hover_name, hover_data, custom_data, text, base, error_x, error_x_minus, error_y, error_y_minus, animation_frame, animation_group, category_orders, labels, color_discrete_sequence, color_discrete_map, color_continuous_scale, range_color, color_continuous_midpoint, opacity, orientation, barmode, log_x, log_y, range_x, range_y, title, template, width, height)\u001b[0m\n\u001b[0;32m    348\u001b[0m     \u001b[0mmark\u001b[0m\u001b[1;33m.\u001b[0m\u001b[1;33m\u001b[0m\u001b[1;33m\u001b[0m\u001b[0m\n\u001b[0;32m    349\u001b[0m     \"\"\"\n\u001b[1;32m--> 350\u001b[1;33m     return make_figure(\n\u001b[0m\u001b[0;32m    351\u001b[0m         \u001b[0margs\u001b[0m\u001b[1;33m=\u001b[0m\u001b[0mlocals\u001b[0m\u001b[1;33m(\u001b[0m\u001b[1;33m)\u001b[0m\u001b[1;33m,\u001b[0m\u001b[1;33m\u001b[0m\u001b[1;33m\u001b[0m\u001b[0m\n\u001b[0;32m    352\u001b[0m         \u001b[0mconstructor\u001b[0m\u001b[1;33m=\u001b[0m\u001b[0mgo\u001b[0m\u001b[1;33m.\u001b[0m\u001b[0mBar\u001b[0m\u001b[1;33m,\u001b[0m\u001b[1;33m\u001b[0m\u001b[1;33m\u001b[0m\u001b[0m\n",
      "\u001b[1;32m~\\Anaconda3\\envs\\CoddleTech\\lib\\site-packages\\plotly\\express\\_core.py\u001b[0m in \u001b[0;36mmake_figure\u001b[1;34m(args, constructor, trace_patch, layout_patch)\u001b[0m\n\u001b[0;32m   1859\u001b[0m     \u001b[0mapply_default_cascade\u001b[0m\u001b[1;33m(\u001b[0m\u001b[0margs\u001b[0m\u001b[1;33m)\u001b[0m\u001b[1;33m\u001b[0m\u001b[1;33m\u001b[0m\u001b[0m\n\u001b[0;32m   1860\u001b[0m \u001b[1;33m\u001b[0m\u001b[0m\n\u001b[1;32m-> 1861\u001b[1;33m     \u001b[0margs\u001b[0m \u001b[1;33m=\u001b[0m \u001b[0mbuild_dataframe\u001b[0m\u001b[1;33m(\u001b[0m\u001b[0margs\u001b[0m\u001b[1;33m,\u001b[0m \u001b[0mconstructor\u001b[0m\u001b[1;33m)\u001b[0m\u001b[1;33m\u001b[0m\u001b[1;33m\u001b[0m\u001b[0m\n\u001b[0m\u001b[0;32m   1862\u001b[0m     \u001b[1;32mif\u001b[0m \u001b[0mconstructor\u001b[0m \u001b[1;32min\u001b[0m \u001b[1;33m[\u001b[0m\u001b[0mgo\u001b[0m\u001b[1;33m.\u001b[0m\u001b[0mTreemap\u001b[0m\u001b[1;33m,\u001b[0m \u001b[0mgo\u001b[0m\u001b[1;33m.\u001b[0m\u001b[0mSunburst\u001b[0m\u001b[1;33m]\u001b[0m \u001b[1;32mand\u001b[0m \u001b[0margs\u001b[0m\u001b[1;33m[\u001b[0m\u001b[1;34m\"path\"\u001b[0m\u001b[1;33m]\u001b[0m \u001b[1;32mis\u001b[0m \u001b[1;32mnot\u001b[0m \u001b[1;32mNone\u001b[0m\u001b[1;33m:\u001b[0m\u001b[1;33m\u001b[0m\u001b[1;33m\u001b[0m\u001b[0m\n\u001b[0;32m   1863\u001b[0m         \u001b[0margs\u001b[0m \u001b[1;33m=\u001b[0m \u001b[0mprocess_dataframe_hierarchy\u001b[0m\u001b[1;33m(\u001b[0m\u001b[0margs\u001b[0m\u001b[1;33m)\u001b[0m\u001b[1;33m\u001b[0m\u001b[1;33m\u001b[0m\u001b[0m\n",
      "\u001b[1;32m~\\Anaconda3\\envs\\CoddleTech\\lib\\site-packages\\plotly\\express\\_core.py\u001b[0m in \u001b[0;36mbuild_dataframe\u001b[1;34m(args, constructor)\u001b[0m\n\u001b[0;32m   1280\u001b[0m     \u001b[0mdf_provided\u001b[0m \u001b[1;33m=\u001b[0m \u001b[0margs\u001b[0m\u001b[1;33m[\u001b[0m\u001b[1;34m\"data_frame\"\u001b[0m\u001b[1;33m]\u001b[0m \u001b[1;32mis\u001b[0m \u001b[1;32mnot\u001b[0m \u001b[1;32mNone\u001b[0m\u001b[1;33m\u001b[0m\u001b[1;33m\u001b[0m\u001b[0m\n\u001b[0;32m   1281\u001b[0m     \u001b[1;32mif\u001b[0m \u001b[0mdf_provided\u001b[0m \u001b[1;32mand\u001b[0m \u001b[1;32mnot\u001b[0m \u001b[0misinstance\u001b[0m\u001b[1;33m(\u001b[0m\u001b[0margs\u001b[0m\u001b[1;33m[\u001b[0m\u001b[1;34m\"data_frame\"\u001b[0m\u001b[1;33m]\u001b[0m\u001b[1;33m,\u001b[0m \u001b[0mpd\u001b[0m\u001b[1;33m.\u001b[0m\u001b[0mDataFrame\u001b[0m\u001b[1;33m)\u001b[0m\u001b[1;33m:\u001b[0m\u001b[1;33m\u001b[0m\u001b[1;33m\u001b[0m\u001b[0m\n\u001b[1;32m-> 1282\u001b[1;33m         \u001b[0margs\u001b[0m\u001b[1;33m[\u001b[0m\u001b[1;34m\"data_frame\"\u001b[0m\u001b[1;33m]\u001b[0m \u001b[1;33m=\u001b[0m \u001b[0mpd\u001b[0m\u001b[1;33m.\u001b[0m\u001b[0mDataFrame\u001b[0m\u001b[1;33m(\u001b[0m\u001b[0margs\u001b[0m\u001b[1;33m[\u001b[0m\u001b[1;34m\"data_frame\"\u001b[0m\u001b[1;33m]\u001b[0m\u001b[1;33m)\u001b[0m\u001b[1;33m\u001b[0m\u001b[1;33m\u001b[0m\u001b[0m\n\u001b[0m\u001b[0;32m   1283\u001b[0m     \u001b[0mdf_input\u001b[0m \u001b[1;33m=\u001b[0m \u001b[0margs\u001b[0m\u001b[1;33m[\u001b[0m\u001b[1;34m\"data_frame\"\u001b[0m\u001b[1;33m]\u001b[0m\u001b[1;33m\u001b[0m\u001b[1;33m\u001b[0m\u001b[0m\n\u001b[0;32m   1284\u001b[0m \u001b[1;33m\u001b[0m\u001b[0m\n",
      "\u001b[1;32m~\\Anaconda3\\envs\\CoddleTech\\lib\\site-packages\\pandas\\core\\frame.py\u001b[0m in \u001b[0;36m__init__\u001b[1;34m(self, data, index, columns, dtype, copy)\u001b[0m\n\u001b[0;32m    588\u001b[0m         \u001b[1;32melse\u001b[0m\u001b[1;33m:\u001b[0m\u001b[1;33m\u001b[0m\u001b[1;33m\u001b[0m\u001b[0m\n\u001b[0;32m    589\u001b[0m             \u001b[1;32mif\u001b[0m \u001b[0mindex\u001b[0m \u001b[1;32mis\u001b[0m \u001b[1;32mNone\u001b[0m \u001b[1;32mor\u001b[0m \u001b[0mcolumns\u001b[0m \u001b[1;32mis\u001b[0m \u001b[1;32mNone\u001b[0m\u001b[1;33m:\u001b[0m\u001b[1;33m\u001b[0m\u001b[1;33m\u001b[0m\u001b[0m\n\u001b[1;32m--> 590\u001b[1;33m                 \u001b[1;32mraise\u001b[0m \u001b[0mValueError\u001b[0m\u001b[1;33m(\u001b[0m\u001b[1;34m\"DataFrame constructor not properly called!\"\u001b[0m\u001b[1;33m)\u001b[0m\u001b[1;33m\u001b[0m\u001b[1;33m\u001b[0m\u001b[0m\n\u001b[0m\u001b[0;32m    591\u001b[0m \u001b[1;33m\u001b[0m\u001b[0m\n\u001b[0;32m    592\u001b[0m             \u001b[1;32mif\u001b[0m \u001b[1;32mnot\u001b[0m \u001b[0mdtype\u001b[0m\u001b[1;33m:\u001b[0m\u001b[1;33m\u001b[0m\u001b[1;33m\u001b[0m\u001b[0m\n",
      "\u001b[1;31mValueError\u001b[0m: DataFrame constructor not properly called!"
     ]
    }
   ],
   "source": [
    "px.bar(userloan.persist(),x=userloan.select('occupation').persist(),y=userloan.select('age').persist())"
   ]
  },
  {
   "cell_type": "code",
   "execution_count": null,
   "id": "a3f9ffbc",
   "metadata": {},
   "outputs": [],
   "source": []
  }
 ],
 "metadata": {
  "kernelspec": {
   "display_name": "Python 3",
   "language": "python",
   "name": "python3"
  },
  "language_info": {
   "codemirror_mode": {
    "name": "ipython",
    "version": 3
   },
   "file_extension": ".py",
   "mimetype": "text/x-python",
   "name": "python",
   "nbconvert_exporter": "python",
   "pygments_lexer": "ipython3",
   "version": "3.8.10"
  }
 },
 "nbformat": 4,
 "nbformat_minor": 5
}
