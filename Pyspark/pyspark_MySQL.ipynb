{
 "cells": [
  {
   "cell_type": "code",
   "execution_count": 2,
   "id": "68a4439c",
   "metadata": {},
   "outputs": [],
   "source": [
    "import findspark\n",
    "findspark.init()\n",
    "findspark.find()\n",
    "import mysql.connector\n",
    "import pandas as pd\n",
    "\n",
    "from pyspark.sql import SparkSession\n",
    "from pyspark import SQLContext,SparkConf,SparkContext"
   ]
  },
  {
   "cell_type": "code",
   "execution_count": 6,
   "id": "4887e066",
   "metadata": {},
   "outputs": [],
   "source": [
    "spark=SparkSession\\\n",
    "        .builder.appName('Read MySQL Table')\\\n",
    "        .config('spark.jars.packages','mysql:mysql-connector-java:8.0.25')\\\n",
    "        .getOrCreate()"
   ]
  },
  {
   "cell_type": "code",
   "execution_count": 4,
   "id": "61847c6e",
   "metadata": {},
   "outputs": [],
   "source": [
    "mysql_select_query='(select * from student)as student'\n",
    "\n",
    "mysql_jdbc_url='jdbc:mysql://localhost:3306/aswin'\n",
    "\n",
    "tbl_data = spark.read.format('jdbc')\\\n",
    "            .option('url',mysql_jdbc_url)\\\n",
    "            .option('driver','com.mysql.jdbc.Driver')\\\n",
    "            .option('dbtable',mysql_select_query)\\\n",
    "            .option('user','root')\\\n",
    "            .option('password','root')\\\n",
    "            .load()"
   ]
  },
  {
   "cell_type": "code",
   "execution_count": 5,
   "id": "06d5e1e4",
   "metadata": {},
   "outputs": [
    {
     "name": "stdout",
     "output_type": "stream",
     "text": [
      "+---+-------+-----+\n",
      "|sid|   name|total|\n",
      "+---+-------+-----+\n",
      "|101|  Aswin| 95.0|\n",
      "|102|  Shyam| 99.0|\n",
      "|103|  Shanu|100.0|\n",
      "|104|Praveen| 98.0|\n",
      "|105| Rohith| 97.0|\n",
      "+---+-------+-----+\n",
      "\n"
     ]
    }
   ],
   "source": [
    "tbl_data.show()"
   ]
  },
  {
   "cell_type": "code",
   "execution_count": null,
   "id": "30db1ee4",
   "metadata": {},
   "outputs": [],
   "source": []
  }
 ],
 "metadata": {
  "kernelspec": {
   "display_name": "Python 3",
   "language": "python",
   "name": "python3"
  },
  "language_info": {
   "codemirror_mode": {
    "name": "ipython",
    "version": 3
   },
   "file_extension": ".py",
   "mimetype": "text/x-python",
   "name": "python",
   "nbconvert_exporter": "python",
   "pygments_lexer": "ipython3",
   "version": "3.8.10"
  }
 },
 "nbformat": 4,
 "nbformat_minor": 5
}
